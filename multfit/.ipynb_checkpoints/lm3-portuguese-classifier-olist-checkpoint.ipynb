{
 "cells": [
  {
   "cell_type": "markdown",
   "metadata": {
    "colab_type": "text",
    "id": "3qUbNoHjeaD_"
   },
   "source": [
    "# (MultiFiT) Portuguese Sentiment Classifier on Brazilian E-Commerce Public Dataset by Olist\n",
    "- **Architecture 4 QRNN with 1550 hidden parameters by layer, SentencePiece tokenizer (15 000 tokens)**\n",
    "- **Hyperparameters and training method from the MultiFiT paper (except the Label Smoothing for the loss)**"
   ]
  },
  {
   "cell_type": "markdown",
   "metadata": {
    "colab_type": "text",
    "id": "r5B4feJLeaEE"
   },
   "source": [
    "**Information**\n",
    "\n",
    "According to this new article \"[MultiFiT: Efficient Multi-lingual Language Model Fine-tuning](https://arxiv.org/abs/1909.04761)\" (September 10, 2019), the QRNN architecture and the SentencePiece tokenizer give better results than AWD-LSTM and the spaCy tokenizer respectively. \n",
    "\n",
    "Therefore, they have been used in this notebook to **fine-tune a Portuguese Bidirectional Language Model** by Transfer Learning of a Portuguese Bidirectional Language Model (with the QRNN architecture and the SentencePiece tokenizer, too) trained on a Wikipedia corpus of 100 millions tokens ([lm3-portuguese.ipynb](https://github.com/piegu/language-models/blob/master/lm3-portuguese.ipynb)). \n",
    "\n",
    "This Portuguese Bidirectional Language Model has been **fine-tuned on \"[Brazilian E-Commerce Public Reviews Dataset by Olist](https://www.kaggle.com/olistbr/brazilian-ecommerce/metadata)\"** and **its encoder part has been transfered to a sentiment classifier which has been finally trained on this Olist corpus**.\n",
    "\n",
    "This process **LM General --> LM fine-tuned --> Classifier fine-tuned** is called [ULMFiT](http://nlp.fast.ai/category/classification.html) but we trained our 3 models with the hyperparameters values of the [MultiFiT](https://arxiv.org/abs/1909.04761) method given at the end of the MultiFiT article.\n",
    "\n",
    "**Hyperparameters values**\n",
    "\n",
    "- Language Model\n",
    "    - (batch size) bs = 50\n",
    "    - (QRNN) 4 QRNN (default: 3) with 1550 hidden parameters each one (default: 1152)\n",
    "    - (SentencePiece) vocab of 15000 tokens\n",
    "    - (dropout) mult_drop = 1.0\n",
    "    - (weight decay) wd = 0.1\n",
    "    - (number of training epochs) 17 epochs\n",
    "    - (learning rate) modified version of 1-cycle learning rate schedule (Smith, 2018) that uses cosine instead of linear annealing, cyclical momentum and discriminative finetuning\n",
    "    - (loss) FlattenedLoss of CrossEntropyLoss\n",
    "    \n",
    "\n",
    "- Sentiment Classifier\n",
    "    - (batch size) bs = 18\n",
    "    - (SentencePiece) vocab of 15000 tokens\n",
    "    - (dropout) mult_drop = 1.0 \n",
    "    - (weight decay) wd = 0.1\n",
    "    - (number of training epochs) 9 epochs\n",
    "    - (learning rate) modified version of 1-cycle learning rate schedule (Smith, 2018) that uses cosine instead of linear annealing, cyclical momentum and discriminative finetuning\n",
    "    - (loss) FlattenedLoss of weighted CrossEntropyLoss\n",
    "    \n",
    "**Note**: the MultiFiT values of mult_drop and weight decay are respectively 0.5 and 0.01 but as the Olist dataset after pre-processing is small, we need to increase regularization. Therefore, we did test and we finally chose mult_drop = 1.0 and wd = 0.1 both for fine-tuning the Bidirectional LM and the Sentiment Classifier. More, we trained the Bidirectional LM on 17 epochs and not 20 for the same reason (our models overfitted beacuse of the small size of teh dataset on 20 epochs). "
   ]
  },
  {
   "cell_type": "markdown",
   "metadata": {
    "colab_type": "text",
    "id": "RheOuLepeaEG"
   },
   "source": [
    "## Results"
   ]
  },
  {
   "cell_type": "markdown",
   "metadata": {
    "colab_type": "text",
    "id": "XwtyIzVfeaEI"
   },
   "source": [
    "**We can conclude that this Bidirectional Portuguese LM model using the MultiFiT configuration is a good model to perform text classification but with only 46 millions of parameters, it is far from being a LM that can gan compete with [GPT-2](https://openai.com/blog/better-language-models/) or [BERT](https://arxiv.org/abs/1810.04805) in NLP tasks like text generation.**\n",
    "\n",
    "- **About the data**: the dataset \"Brazilian E-Commerce Public Dataset by Olist\", even after pre-processing (deleting empty reviews, neutral ones, etc.), is unbalanced. Therefore, we used a weighted loss function (FlattenedLoss of weighted CrossEntropyLoss).\n",
    "    - initial number of reviews: 100 000\n",
    "    - number of reviews after pre-processing: 37 770\n",
    "        - neg: 11270 (29.84%)\n",
    "        - pos: 26500 (70.16%)\n",
    "\n",
    "\n",
    "- **(fine-tuned) Language Model**   \n",
    "    - forward : (accuracy) 34.74% | (perplexity) 27.42\n",
    "    - backward: (global) 38.24% | (perplexity) 27.84\n",
    "    \n",
    "\n",
    "- **(fine-tuned) Sentiment Classifier**\n",
    "\n",
    "    - **Accuracy**\n",
    "        - forward : (global) **92.80%** | (neg) 95.10% | **(pos) 91.80%**\n",
    "        - backward: (global) 91.08% | **(neg) 96.33%** | (pos) 88.80%\n",
    "        - ensemble: (global) 92.30% | (neg) 95.80% | (pos) 90.77%\n",
    "\n",
    "    - **f1 score**\n",
    "        - forward: **0.9467**\n",
    "        - backward: 0.9328\n",
    "        - ensemble: 0.9426\n",
    "    \n",
    "\n",
    "(neg = negative reviews | pos = positive reviews)"
   ]
  },
  {
   "cell_type": "markdown",
   "metadata": {
    "colab_type": "text",
    "id": "UbCnRIoaeaEK"
   },
   "source": [
    "### To be improved"
   ]
  },
  {
   "cell_type": "markdown",
   "metadata": {
    "colab_type": "text",
    "id": "nxkteiZ7eaED"
   },
   "source": [
    "- Author: [Pierre Guillou](https://www.linkedin.com/in/pierreguillou)\n",
    "- Date: September 2019\n",
    "- Post in medium: [link](https://medium.com/@pierre_guillou/nlp-fastai-portuguese-language-model-980c8ec75362)\n",
    "- Ref: [Fastai v1](https://docs.fast.ai/) (Deep Learning library on PyTorch)"
   ]
  },
  {
   "cell_type": "markdown",
   "metadata": {
    "colab_type": "text",
    "id": "AwqcJjXyeaEL"
   },
   "source": [
    "The lost function FlattenedLoss of LabelSmoothingCrossEntropy should be tested as it is used in the MultiFiT method (see the notebook [lm3-portuguese-classifier-TCU-jurisprudencia.ipynb](https://github.com/piegu/language-models/blob/master/lm3-portuguese-classifier-TCU-jurisprudencia.ipynb) to get the code)."
   ]
  },
  {
   "cell_type": "markdown",
   "metadata": {
    "colab_type": "text",
    "id": "fE9FstQHeaEM"
   },
   "source": [
    "## Initialisation"
   ]
  },
  {
   "cell_type": "code",
   "execution_count": 1,
   "metadata": {
    "colab": {},
    "colab_type": "code",
    "id": "ycNx3aTIeaEN"
   },
   "outputs": [],
   "source": [
    "%reload_ext autoreload\n",
    "%autoreload 2\n",
    "%matplotlib inline\n",
    "\n",
    "from fastai import *\n",
    "from fastai.text import *\n",
    "from fastai.callbacks import *"
   ]
  },
  {
   "cell_type": "code",
   "execution_count": 2,
   "metadata": {
    "colab": {},
    "colab_type": "code",
    "id": "BdYJCK3oeaES"
   },
   "outputs": [],
   "source": [
    "from sklearn.metrics import f1_score\n",
    "\n",
    "@np_func\n",
    "def f1(inp,targ): return f1_score(targ, np.argmax(inp, axis=-1))"
   ]
  },
  {
   "cell_type": "code",
   "execution_count": 3,
   "metadata": {
    "colab": {},
    "colab_type": "code",
    "id": "3TB8ncW-eaEV"
   },
   "outputs": [],
   "source": [
    "# bs=48\n",
    "# bs=24\n",
    "bs=50"
   ]
  },
  {
   "cell_type": "code",
   "execution_count": 4,
   "metadata": {
    "colab": {},
    "colab_type": "code",
    "id": "mu1oCzT-eaEZ"
   },
   "outputs": [],
   "source": [
    "torch.cuda.set_device(0)"
   ]
  },
  {
   "cell_type": "code",
   "execution_count": 5,
   "metadata": {
    "colab": {
     "base_uri": "https://localhost:8080/",
     "height": 128
    },
    "colab_type": "code",
    "executionInfo": {
     "elapsed": 36275,
     "status": "ok",
     "timestamp": 1575284787628,
     "user": {
      "displayName": "Rubens Mau",
      "photoUrl": "https://lh3.googleusercontent.com/a-/AAuE7mCKhFsu_fWY1Zhv1KatMAt_uMPo6H8V-zKYsgen81A=s64",
      "userId": "03088039596880553086"
     },
     "user_tz": 180
    },
    "id": "2A57-I0XgCbZ",
    "outputId": "d7895644-c794-4bad-87f8-6544073bf580"
   },
   "outputs": [],
   "source": [
    "\n",
    "#from pathlib import Path\n",
    "##  IF USING GOOGLE COLAB\n",
    "#from google.colab import drive\n",
    "#drive.mount('/content/gdrive', force_remount=True)\n",
    "\n",
    "\n"
   ]
  },
  {
   "cell_type": "code",
   "execution_count": 6,
   "metadata": {
    "colab": {
     "base_uri": "https://localhost:8080/",
     "height": 110
    },
    "colab_type": "code",
    "executionInfo": {
     "elapsed": 4853,
     "status": "ok",
     "timestamp": 1575284794333,
     "user": {
      "displayName": "Rubens Mau",
      "photoUrl": "https://lh3.googleusercontent.com/a-/AAuE7mCKhFsu_fWY1Zhv1KatMAt_uMPo6H8V-zKYsgen81A=s64",
      "userId": "03088039596880553086"
     },
     "user_tz": 180
    },
    "id": "K-Lb6O84gpxl",
    "outputId": "10df9367-6549-4719-8e90-8f33c3a1aaa6"
   },
   "outputs": [
    {
     "data": {
      "text/plain": [
       "[PosixPath('../../data/olist'),\n",
       " PosixPath('../../data/.ipynb_checkpoints'),\n",
       " PosixPath('../../data/lid.176.bin'),\n",
       " PosixPath('../../data/ptwiki')]"
      ]
     },
     "execution_count": 6,
     "metadata": {},
     "output_type": "execute_result"
    }
   ],
   "source": [
    "data_path = Path('../../data/')\n",
    "prog_path = Path('/content/gdrive/My Drive/Colab Notebooks/nlp/multfit')\n",
    "\n",
    "#### works well to check directory structure in google drive\n",
    "data_path.ls()"
   ]
  },
  {
   "cell_type": "markdown",
   "metadata": {
    "colab_type": "text",
    "id": "o3NM6fNIeaEh"
   },
   "source": [
    "This will create a `{lang}wiki` folder, containing a `{lang}wiki` text file with the wikipedia contents. (For other languages, replace `{lang}` with the appropriate code from the [list of wikipedias](https://meta.wikimedia.org/wiki/List_of_Wikipedias).)"
   ]
  },
  {
   "cell_type": "code",
   "execution_count": 7,
   "metadata": {
    "colab": {},
    "colab_type": "code",
    "id": "cCZNxYODeaEi"
   },
   "outputs": [],
   "source": [
    "lang = 'pt'"
   ]
  },
  {
   "cell_type": "code",
   "execution_count": 8,
   "metadata": {
    "colab": {
     "base_uri": "https://localhost:8080/",
     "height": 35
    },
    "colab_type": "code",
    "executionInfo": {
     "elapsed": 2093,
     "status": "ok",
     "timestamp": 1575284799395,
     "user": {
      "displayName": "Rubens Mau",
      "photoUrl": "https://lh3.googleusercontent.com/a-/AAuE7mCKhFsu_fWY1Zhv1KatMAt_uMPo6H8V-zKYsgen81A=s64",
      "userId": "03088039596880553086"
     },
     "user_tz": 180
    },
    "id": "uciNOYkteaEl",
    "outputId": "f305b682-1c38-4142-d4a5-0a0a4a846071"
   },
   "outputs": [
    {
     "data": {
      "text/plain": [
       "['pt_wt_sp15_multifit', 'pt_wt_vocab_sp15_multifit']"
      ]
     },
     "execution_count": 8,
     "metadata": {},
     "output_type": "execute_result"
    }
   ],
   "source": [
    "name = f'{lang}wiki'\n",
    "#path = data_path/name\n",
    "path = data_path/name\n",
    "path.mkdir(exist_ok=True, parents=True)\n",
    "\n",
    "lm_fns3 = [f'{lang}_wt_sp15_multifit', f'{lang}_wt_vocab_sp15_multifit']\n",
    "lm_fns3_bwd = [f'{lang}_wt_sp15_multifit_bwd', f'{lang}_wt_vocab_sp15_multifit_bwd']\n",
    "lm_fns3"
   ]
  },
  {
   "cell_type": "markdown",
   "metadata": {
    "colab_type": "text",
    "id": "dAyHoglUeaEo"
   },
   "source": [
    "## Data"
   ]
  },
  {
   "cell_type": "markdown",
   "metadata": {
    "colab_type": "text",
    "id": "XLH8IZz6eaEp"
   },
   "source": [
    "- [Brazilian E-Commerce Public Dataset by Olist](https://www.kaggle.com/olistbr/brazilian-ecommerce/metadata)\n",
    "- File: olist_order_reviews_dataset.csv"
   ]
  },
  {
   "cell_type": "code",
   "execution_count": 9,
   "metadata": {
    "colab": {
     "base_uri": "https://localhost:8080/",
     "height": 201
    },
    "colab_type": "code",
    "executionInfo": {
     "elapsed": 1433,
     "status": "ok",
     "timestamp": 1575284806885,
     "user": {
      "displayName": "Rubens Mau",
      "photoUrl": "https://lh3.googleusercontent.com/a-/AAuE7mCKhFsu_fWY1Zhv1KatMAt_uMPo6H8V-zKYsgen81A=s64",
      "userId": "03088039596880553086"
     },
     "user_tz": 180
    },
    "id": "Fnh_A-R0eaEq",
    "outputId": "61da2617-912e-4f0e-cbe3-086c19aeaff4"
   },
   "outputs": [
    {
     "data": {
      "text/plain": [
       "[PosixPath('../../data/olist/olist_order_reviews_dataset.csv'),\n",
       " PosixPath('../../data/olist/olist_reviews_filtered_pt.csv'),\n",
       " PosixPath('../../data/olist/product_category_name_translation.csv'),\n",
       " PosixPath('../../data/olist/olist_geolocation_dataset.csv'),\n",
       " PosixPath('../../data/olist/olist_order_items_dataset.csv'),\n",
       " PosixPath('../../data/olist/olist_reviews_tobechecked_pt.csv'),\n",
       " PosixPath('../../data/olist/olist_customers_dataset.csv'),\n",
       " PosixPath('../../data/olist/olist_products_dataset.csv'),\n",
       " PosixPath('../../data/olist/olist_sellers_dataset.csv'),\n",
       " PosixPath('../../data/olist/olist_orders_dataset.csv'),\n",
       " PosixPath('../../data/olist/olist_order_payments_dataset.csv')]"
      ]
     },
     "execution_count": 9,
     "metadata": {},
     "output_type": "execute_result"
    }
   ],
   "source": [
    "name = 'olist'\n",
    "path_data = data_path/name\n",
    "path_data.ls()"
   ]
  },
  {
   "cell_type": "markdown",
   "metadata": {
    "colab_type": "text",
    "id": "4UnrkgEYeaEv"
   },
   "source": [
    "### Run this code the first time"
   ]
  },
  {
   "cell_type": "code",
   "execution_count": 10,
   "metadata": {
    "colab": {
     "base_uri": "https://localhost:8080/",
     "height": 199
    },
    "colab_type": "code",
    "executionInfo": {
     "elapsed": 1067,
     "status": "ok",
     "timestamp": 1575284819106,
     "user": {
      "displayName": "Rubens Mau",
      "photoUrl": "https://lh3.googleusercontent.com/a-/AAuE7mCKhFsu_fWY1Zhv1KatMAt_uMPo6H8V-zKYsgen81A=s64",
      "userId": "03088039596880553086"
     },
     "user_tz": 180
    },
    "id": "HVMgElv4xcwi",
    "outputId": "f7da4dd7-6065-4829-d006-d5c28a8f24ea"
   },
   "outputs": [],
   "source": [
    "#import sys\n",
    "#sys.path.append('/content/gdrive/My Drive/Colab Notebooks/nlp/multfit')\n",
    "#sys.path\n"
   ]
  },
  {
   "cell_type": "code",
   "execution_count": 11,
   "metadata": {
    "colab": {},
    "colab_type": "code",
    "id": "AbvzZsQj321w"
   },
   "outputs": [],
   "source": [
    "from  converter import *"
   ]
  },
  {
   "cell_type": "code",
   "execution_count": 12,
   "metadata": {
    "colab": {},
    "colab_type": "code",
    "id": "S1VWaK6seaE0"
   },
   "outputs": [],
   "source": [
    "# to solve display error of pandas dataframe\n",
    "get_ipython().config.get('IPKernelApp', {})['parent_appname'] = \"\""
   ]
  },
  {
   "cell_type": "code",
   "execution_count": 13,
   "metadata": {
    "colab": {
     "base_uri": "https://localhost:8080/",
     "height": 271
    },
    "colab_type": "code",
    "executionInfo": {
     "elapsed": 2918,
     "status": "ok",
     "timestamp": 1575284845084,
     "user": {
      "displayName": "Rubens Mau",
      "photoUrl": "https://lh3.googleusercontent.com/a-/AAuE7mCKhFsu_fWY1Zhv1KatMAt_uMPo6H8V-zKYsgen81A=s64",
      "userId": "03088039596880553086"
     },
     "user_tz": 180
    },
    "id": "3EKcHEHHeaE3",
    "outputId": "b206d765-c543-439a-f6cc-0ce7c6870009"
   },
   "outputs": [
    {
     "name": "stdout",
     "output_type": "stream",
     "text": [
      "100000\n"
     ]
    },
    {
     "data": {
      "text/html": [
       "<div>\n",
       "<style scoped>\n",
       "    .dataframe tbody tr th:only-of-type {\n",
       "        vertical-align: middle;\n",
       "    }\n",
       "\n",
       "    .dataframe tbody tr th {\n",
       "        vertical-align: top;\n",
       "    }\n",
       "\n",
       "    .dataframe thead th {\n",
       "        text-align: right;\n",
       "    }\n",
       "</style>\n",
       "<table border=\"1\" class=\"dataframe\">\n",
       "  <thead>\n",
       "    <tr style=\"text-align: right;\">\n",
       "      <th></th>\n",
       "      <th>review_id</th>\n",
       "      <th>order_id</th>\n",
       "      <th>review_score</th>\n",
       "      <th>review_comment_title</th>\n",
       "      <th>review_comment_message</th>\n",
       "      <th>review_creation_date</th>\n",
       "      <th>review_answer_timestamp</th>\n",
       "    </tr>\n",
       "  </thead>\n",
       "  <tbody>\n",
       "    <tr>\n",
       "      <th>0</th>\n",
       "      <td>7bc2406110b926393aa56f80a40eba40</td>\n",
       "      <td>73fc7af87114b39712e6da79b0a377eb</td>\n",
       "      <td>4</td>\n",
       "      <td>NaN</td>\n",
       "      <td>NaN</td>\n",
       "      <td>2018-01-18 00:00:00</td>\n",
       "      <td>2018-01-18 21:46:59</td>\n",
       "    </tr>\n",
       "    <tr>\n",
       "      <th>1</th>\n",
       "      <td>80e641a11e56f04c1ad469d5645fdfde</td>\n",
       "      <td>a548910a1c6147796b98fdf73dbeba33</td>\n",
       "      <td>5</td>\n",
       "      <td>NaN</td>\n",
       "      <td>NaN</td>\n",
       "      <td>2018-03-10 00:00:00</td>\n",
       "      <td>2018-03-11 03:05:13</td>\n",
       "    </tr>\n",
       "    <tr>\n",
       "      <th>2</th>\n",
       "      <td>228ce5500dc1d8e020d8d1322874b6f0</td>\n",
       "      <td>f9e4b658b201a9f2ecdecbb34bed034b</td>\n",
       "      <td>5</td>\n",
       "      <td>NaN</td>\n",
       "      <td>NaN</td>\n",
       "      <td>2018-02-17 00:00:00</td>\n",
       "      <td>2018-02-18 14:36:24</td>\n",
       "    </tr>\n",
       "    <tr>\n",
       "      <th>3</th>\n",
       "      <td>e64fb393e7b32834bb789ff8bb30750e</td>\n",
       "      <td>658677c97b385a9be170737859d3511b</td>\n",
       "      <td>5</td>\n",
       "      <td>NaN</td>\n",
       "      <td>Recebi bem antes do prazo estipulado.</td>\n",
       "      <td>2017-04-21 00:00:00</td>\n",
       "      <td>2017-04-21 22:02:06</td>\n",
       "    </tr>\n",
       "    <tr>\n",
       "      <th>4</th>\n",
       "      <td>f7c4243c7fe1938f181bec41a392bdeb</td>\n",
       "      <td>8e6bfb81e283fa7e4f11123a3fb894f1</td>\n",
       "      <td>5</td>\n",
       "      <td>NaN</td>\n",
       "      <td>Parabéns lojas lannister adorei comprar pela I...</td>\n",
       "      <td>2018-03-01 00:00:00</td>\n",
       "      <td>2018-03-02 10:26:53</td>\n",
       "    </tr>\n",
       "  </tbody>\n",
       "</table>\n",
       "</div>"
      ],
      "text/plain": [
       "                          review_id                          order_id  \\\n",
       "0  7bc2406110b926393aa56f80a40eba40  73fc7af87114b39712e6da79b0a377eb   \n",
       "1  80e641a11e56f04c1ad469d5645fdfde  a548910a1c6147796b98fdf73dbeba33   \n",
       "2  228ce5500dc1d8e020d8d1322874b6f0  f9e4b658b201a9f2ecdecbb34bed034b   \n",
       "3  e64fb393e7b32834bb789ff8bb30750e  658677c97b385a9be170737859d3511b   \n",
       "4  f7c4243c7fe1938f181bec41a392bdeb  8e6bfb81e283fa7e4f11123a3fb894f1   \n",
       "\n",
       "   review_score review_comment_title  \\\n",
       "0             4                  NaN   \n",
       "1             5                  NaN   \n",
       "2             5                  NaN   \n",
       "3             5                  NaN   \n",
       "4             5                  NaN   \n",
       "\n",
       "                              review_comment_message review_creation_date  \\\n",
       "0                                                NaN  2018-01-18 00:00:00   \n",
       "1                                                NaN  2018-03-10 00:00:00   \n",
       "2                                                NaN  2018-02-17 00:00:00   \n",
       "3              Recebi bem antes do prazo estipulado.  2017-04-21 00:00:00   \n",
       "4  Parabéns lojas lannister adorei comprar pela I...  2018-03-01 00:00:00   \n",
       "\n",
       "  review_answer_timestamp  \n",
       "0     2018-01-18 21:46:59  \n",
       "1     2018-03-11 03:05:13  \n",
       "2     2018-02-18 14:36:24  \n",
       "3     2017-04-21 22:02:06  \n",
       "4     2018-03-02 10:26:53  "
      ]
     },
     "execution_count": 13,
     "metadata": {},
     "output_type": "execute_result"
    }
   ],
   "source": [
    "df = pd.read_csv(path_data/'olist_order_reviews_dataset.csv', encoding='utf-8')\n",
    "print(len(df))\n",
    "df.head()"
   ]
  },
  {
   "cell_type": "code",
   "execution_count": 14,
   "metadata": {
    "colab": {},
    "colab_type": "code",
    "id": "APfvm3rUeaE7"
   },
   "outputs": [],
   "source": [
    "# columns names\n",
    "reviews = \"review_comment_message\"\n",
    "idx = \"review_id\"\n",
    "rating = \"review_score\"\n",
    "label = \"label\"\n",
    "\n",
    "# keep columns\n",
    "df2 = df[[idx,reviews,rating]].copy()"
   ]
  },
  {
   "cell_type": "code",
   "execution_count": 15,
   "metadata": {
    "colab": {
     "base_uri": "https://localhost:8080/",
     "height": 565
    },
    "colab_type": "code",
    "executionInfo": {
     "elapsed": 4936,
     "status": "ok",
     "timestamp": 1575284879664,
     "user": {
      "displayName": "Rubens Mau",
      "photoUrl": "https://lh3.googleusercontent.com/a-/AAuE7mCKhFsu_fWY1Zhv1KatMAt_uMPo6H8V-zKYsgen81A=s64",
      "userId": "03088039596880553086"
     },
     "user_tz": 180
    },
    "id": "iPc-xBxzeaE-",
    "outputId": "cb5baff5-af71-47c5-b009-7a8b687ed89e"
   },
   "outputs": [
    {
     "name": "stdout",
     "output_type": "stream",
     "text": [
      "(orginal csv) number of all reviews: 100000\n",
      "58274 empty reviews were deleted\n",
      "from the 322 identical reviews ids, only the first one has been kept.\n",
      "3634 neutral reviews (rating = 3) were deleted\n",
      "0 reviews with nan label were deleted\n",
      "\n",
      "number of neg reviews (rating = 1 or 2): 11270 (29.84%)\n",
      "number of pos reviews (rating = 4 or 5): 26500 (70.16%)\n",
      "\n",
      "(final) number of all reviews neg and pos: 37770\n"
     ]
    },
    {
     "data": {
      "text/html": [
       "<div>\n",
       "<style scoped>\n",
       "    .dataframe tbody tr th:only-of-type {\n",
       "        vertical-align: middle;\n",
       "    }\n",
       "\n",
       "    .dataframe tbody tr th {\n",
       "        vertical-align: top;\n",
       "    }\n",
       "\n",
       "    .dataframe thead th {\n",
       "        text-align: right;\n",
       "    }\n",
       "</style>\n",
       "<table border=\"1\" class=\"dataframe\">\n",
       "  <thead>\n",
       "    <tr style=\"text-align: right;\">\n",
       "      <th></th>\n",
       "      <th>review_id</th>\n",
       "      <th>review_comment_message</th>\n",
       "      <th>review_score</th>\n",
       "      <th>label</th>\n",
       "    </tr>\n",
       "  </thead>\n",
       "  <tbody>\n",
       "    <tr>\n",
       "      <th>3</th>\n",
       "      <td>e64fb393e7b32834bb789ff8bb30750e</td>\n",
       "      <td>Recebi bem antes do prazo estipulado.</td>\n",
       "      <td>5</td>\n",
       "      <td>pos</td>\n",
       "    </tr>\n",
       "    <tr>\n",
       "      <th>4</th>\n",
       "      <td>f7c4243c7fe1938f181bec41a392bdeb</td>\n",
       "      <td>Parabéns lojas lannister adorei comprar pela I...</td>\n",
       "      <td>5</td>\n",
       "      <td>pos</td>\n",
       "    </tr>\n",
       "    <tr>\n",
       "      <th>9</th>\n",
       "      <td>8670d52e15e00043ae7de4c01cc2fe06</td>\n",
       "      <td>aparelho eficiente. no site a marca do aparelh...</td>\n",
       "      <td>4</td>\n",
       "      <td>pos</td>\n",
       "    </tr>\n",
       "    <tr>\n",
       "      <th>12</th>\n",
       "      <td>4b49719c8a200003f700d3d986ea1a19</td>\n",
       "      <td>Mas um pouco ,travando...pelo valor ta Boa.\\r\\n</td>\n",
       "      <td>4</td>\n",
       "      <td>pos</td>\n",
       "    </tr>\n",
       "    <tr>\n",
       "      <th>15</th>\n",
       "      <td>3948b09f7c818e2d86c9a546758b2335</td>\n",
       "      <td>Vendedor confiável, produto ok e entrega antes...</td>\n",
       "      <td>5</td>\n",
       "      <td>pos</td>\n",
       "    </tr>\n",
       "    <tr>\n",
       "      <th>16</th>\n",
       "      <td>9314d6f9799f5bfba510cc7bcd468c01</td>\n",
       "      <td>GOSTARIA DE SABER O QUE HOUVE, SEMPRE RECEBI E...</td>\n",
       "      <td>2</td>\n",
       "      <td>neg</td>\n",
       "    </tr>\n",
       "    <tr>\n",
       "      <th>19</th>\n",
       "      <td>373cbeecea8286a2b66c97b1b157ec46</td>\n",
       "      <td>Péssimo</td>\n",
       "      <td>1</td>\n",
       "      <td>neg</td>\n",
       "    </tr>\n",
       "    <tr>\n",
       "      <th>22</th>\n",
       "      <td>d21bbc789670eab777d27372ab9094cc</td>\n",
       "      <td>Loja nota 10</td>\n",
       "      <td>5</td>\n",
       "      <td>pos</td>\n",
       "    </tr>\n",
       "    <tr>\n",
       "      <th>24</th>\n",
       "      <td>0e0190b9db53b689b285d3f3916f8441</td>\n",
       "      <td>obrigado pela atençao amim dispensada</td>\n",
       "      <td>5</td>\n",
       "      <td>pos</td>\n",
       "    </tr>\n",
       "    <tr>\n",
       "      <th>27</th>\n",
       "      <td>fe3db7c069d694bab50cc43463f91608</td>\n",
       "      <td>A compra foi realizada facilmente.\\r\\nA entreg...</td>\n",
       "      <td>5</td>\n",
       "      <td>pos</td>\n",
       "    </tr>\n",
       "  </tbody>\n",
       "</table>\n",
       "</div>"
      ],
      "text/plain": [
       "                           review_id  \\\n",
       "3   e64fb393e7b32834bb789ff8bb30750e   \n",
       "4   f7c4243c7fe1938f181bec41a392bdeb   \n",
       "9   8670d52e15e00043ae7de4c01cc2fe06   \n",
       "12  4b49719c8a200003f700d3d986ea1a19   \n",
       "15  3948b09f7c818e2d86c9a546758b2335   \n",
       "16  9314d6f9799f5bfba510cc7bcd468c01   \n",
       "19  373cbeecea8286a2b66c97b1b157ec46   \n",
       "22  d21bbc789670eab777d27372ab9094cc   \n",
       "24  0e0190b9db53b689b285d3f3916f8441   \n",
       "27  fe3db7c069d694bab50cc43463f91608   \n",
       "\n",
       "                               review_comment_message  review_score label  \n",
       "3               Recebi bem antes do prazo estipulado.             5   pos  \n",
       "4   Parabéns lojas lannister adorei comprar pela I...             5   pos  \n",
       "9   aparelho eficiente. no site a marca do aparelh...             4   pos  \n",
       "12    Mas um pouco ,travando...pelo valor ta Boa.\\r\\n             4   pos  \n",
       "15  Vendedor confiável, produto ok e entrega antes...             5   pos  \n",
       "16  GOSTARIA DE SABER O QUE HOUVE, SEMPRE RECEBI E...             2   neg  \n",
       "19                                            Péssimo             1   neg  \n",
       "22                                       Loja nota 10             5   pos  \n",
       "24              obrigado pela atençao amim dispensada             5   pos  \n",
       "27  A compra foi realizada facilmente.\\r\\nA entreg...             5   pos  "
      ]
     },
     "execution_count": 15,
     "metadata": {},
     "output_type": "execute_result"
    }
   ],
   "source": [
    "# number of reviews\n",
    "print(f'(orginal csv) number of all reviews: {len(df2)}')\n",
    "\n",
    "# keep not null reviews\n",
    "## delete nan reviews\n",
    "empty_nan = (df2[reviews].isnull()).sum()\n",
    "df2 = df2[df2[reviews].notnull()]\n",
    "## delete empty reviews\n",
    "list_idx_none = []\n",
    "for idxs, row in df2.iterrows():\n",
    "    if row[reviews].strip() == \"\":\n",
    "        df2.drop(idxs, axis=0, inplace=True)\n",
    "        list_idx_none.append(idxs)\n",
    "empty_none = len(list_idx_none)\n",
    "## print results\n",
    "empty = empty_nan+empty_none\n",
    "if empty != 0:\n",
    "    print(f'{empty} empty reviews were deleted')\n",
    "else:\n",
    "    print('there is no empty review.')\n",
    "\n",
    "# check that there is no twice the same review\n",
    "# keep the first of unique review_id reviews\n",
    "same = len(df2) - len(df2[idx].unique())\n",
    "if same != 0:\n",
    "    df2.drop_duplicates(subset=[idx], inplace=True)\n",
    "    print(f'from the {same} identical reviews ids, only the first one has been kept.')\n",
    "else:\n",
    "    print('there is no identical review id.')\n",
    "\n",
    "# categorify reviews in 2 classes neg, pos in the label column (rating != 3)\n",
    "neutral = len(df2[df2[rating] == 3])\n",
    "df2 = df2[df2[rating] != 3]\n",
    "df2[label] = 'neg'\n",
    "df2.loc[df2[rating] > 3, label] = 'pos'\n",
    "print(f'{neutral} neutral reviews (rating = 3) were deleted')\n",
    "\n",
    "## delete nan labels\n",
    "empty_label_nan = (df2[label].isnull()).sum()\n",
    "df2 = df2[df2[label].notnull()]\n",
    "print(f'{empty_label_nan} reviews with nan label were deleted')\n",
    "\n",
    "\n",
    "\n",
    "# number of reviews neg or pos\n",
    "num_neg = len(df2[df2[label] == 'neg'])\n",
    "num_pos = len(df2[df2[label] == 'pos'])\n",
    "num_neg_pos = len(df2)\n",
    "pc_neg = round((num_neg/num_neg_pos)*100,2)\n",
    "pc_pos = round((num_pos/num_neg_pos)*100,2)\n",
    "print(f'\\nnumber of neg reviews (rating = 1 or 2): {num_neg} ({pc_neg}%)')\n",
    "print(f'number of pos reviews (rating = 4 or 5): {num_pos} ({pc_pos}%)')\n",
    "print(f'\\n(final) number of all reviews neg and pos: {num_neg_pos}')  \n",
    "\n",
    "# convert HTML caracters to normal letters\n",
    "#df2[reviews] = df2[reviews].apply(convert)\n",
    "\n",
    "df2.head(10)"
   ]
  },
  {
   "cell_type": "code",
   "execution_count": 16,
   "metadata": {},
   "outputs": [],
   "source": [
    "df2.review_comment_message= df2.review_comment_message.str.rstrip('\\n\\t\\r')"
   ]
  },
  {
   "cell_type": "code",
   "execution_count": 17,
   "metadata": {},
   "outputs": [],
   "source": [
    "df2= df2.dropna(how='any',axis=0) "
   ]
  },
  {
   "cell_type": "code",
   "execution_count": 18,
   "metadata": {},
   "outputs": [
    {
     "data": {
      "text/plain": [
       "(review_id                 0\n",
       " review_comment_message    0\n",
       " review_score              0\n",
       " label                     0\n",
       " dtype: int64, 37770)"
      ]
     },
     "execution_count": 18,
     "metadata": {},
     "output_type": "execute_result"
    }
   ],
   "source": [
    "df2.isnull().sum() , len(df2)"
   ]
  },
  {
   "cell_type": "code",
   "execution_count": 19,
   "metadata": {},
   "outputs": [
    {
     "data": {
      "text/plain": [
       "(37770, 4)"
      ]
     },
     "execution_count": 19,
     "metadata": {},
     "output_type": "execute_result"
    }
   ],
   "source": [
    "df2.shape"
   ]
  },
  {
   "cell_type": "markdown",
   "metadata": {
    "colab_type": "text",
    "id": "FDPSulLSeaFB"
   },
   "source": [
    "#### Delete the non Portuguese reviews"
   ]
  },
  {
   "cell_type": "markdown",
   "metadata": {
    "colab_type": "text",
    "id": "UCIxDLKzeaFC"
   },
   "source": [
    "**FastText**\n",
    "\n",
    "- library source: https://github.com/facebookresearch/fastText/tree/master/python\n",
    "- Blog post about using fasttext for language detection: https://amitness.com/2019/07/identify-text-language-python/\n",
    "- \"New release of python module\" (june 2019): https://fasttext.cc/blog/2019/06/25/blog-post.html"
   ]
  },
  {
   "cell_type": "code",
   "execution_count": 20,
   "metadata": {
    "colab": {},
    "colab_type": "code",
    "id": "GoeH9mhUeaFD"
   },
   "outputs": [],
   "source": [
    "import fasttext\n",
    "#import urllib.request"
   ]
  },
  {
   "cell_type": "code",
   "execution_count": 21,
   "metadata": {
    "colab": {},
    "colab_type": "code",
    "id": "fySaGT5geaFG"
   },
   "outputs": [],
   "source": [
    "# Download the file from url and save it locally under file_name\n",
    "# source: https://fasttext.cc/docs/en/language-identification.html\n",
    "\n",
    "#path_ft = Path.cwd() # /home/jupyter/tutorials/fastai/course-nlp\n",
    "#url = 'https://dl.fbaipublicfiles.com/fasttext/supervised-models/lid.176.bin'\n",
    "file_name = 'lid.176.bin'\n",
    "#url_file = data_path/file_name\n",
    "#urllib.request.urlretrieve(url, url_file)"
   ]
  },
  {
   "cell_type": "code",
   "execution_count": 22,
   "metadata": {},
   "outputs": [
    {
     "data": {
      "text/plain": [
       "[PosixPath('../../data/olist'),\n",
       " PosixPath('../../data/.ipynb_checkpoints'),\n",
       " PosixPath('../../data/lid.176.bin'),\n",
       " PosixPath('../../data/ptwiki')]"
      ]
     },
     "execution_count": 22,
     "metadata": {},
     "output_type": "execute_result"
    }
   ],
   "source": [
    "data_path.ls()"
   ]
  },
  {
   "cell_type": "code",
   "execution_count": 23,
   "metadata": {
    "colab": {
     "base_uri": "https://localhost:8080/",
     "height": 35
    },
    "colab_type": "code",
    "executionInfo": {
     "elapsed": 4695,
     "status": "ok",
     "timestamp": 1575286011169,
     "user": {
      "displayName": "Rubens Mau",
      "photoUrl": "https://lh3.googleusercontent.com/a-/AAuE7mCKhFsu_fWY1Zhv1KatMAt_uMPo6H8V-zKYsgen81A=s64",
      "userId": "03088039596880553086"
     },
     "user_tz": 180
    },
    "id": "E4w4a7A5eaFK",
    "outputId": "dff61ace-e184-46ea-a329-3638e529d550"
   },
   "outputs": [
    {
     "name": "stderr",
     "output_type": "stream",
     "text": [
      "\n"
     ]
    }
   ],
   "source": [
    "# get the model trained on 176 languages\n",
    "model = fasttext.load_model('../../data/lid.176.bin')"
   ]
  },
  {
   "cell_type": "code",
   "execution_count": 24,
   "metadata": {
    "colab": {
     "base_uri": "https://localhost:8080/",
     "height": 54
    },
    "colab_type": "code",
    "executionInfo": {
     "elapsed": 1069,
     "status": "ok",
     "timestamp": 1575286446274,
     "user": {
      "displayName": "Rubens Mau",
      "photoUrl": "https://lh3.googleusercontent.com/a-/AAuE7mCKhFsu_fWY1Zhv1KatMAt_uMPo6H8V-zKYsgen81A=s64",
      "userId": "03088039596880553086"
     },
     "user_tz": 180
    },
    "id": "2eq-Vm01eaFP",
    "outputId": "50705c3f-ba00-4ba2-ee19-0896671c1ada"
   },
   "outputs": [
    {
     "name": "stdout",
     "output_type": "stream",
     "text": [
      "False\n",
      "([['__label__he']], array([[0.999974]]))\n"
     ]
    }
   ],
   "source": [
    "# test\n",
    "#sentences = ['Eu me chamo Roberto.']\n",
    "sentences = [ 'אני אוהב אותך']\n",
    "\n",
    "predictions = model.predict(sentences)\n",
    "print(predictions[0][0][0].replace('__label__','') == 'pt')\n",
    "print(predictions)"
   ]
  },
  {
   "cell_type": "code",
   "execution_count": 25,
   "metadata": {
    "colab": {
     "base_uri": "https://localhost:8080/",
     "height": 72
    },
    "colab_type": "code",
    "executionInfo": {
     "elapsed": 6221,
     "status": "ok",
     "timestamp": 1575286117463,
     "user": {
      "displayName": "Rubens Mau",
      "photoUrl": "https://lh3.googleusercontent.com/a-/AAuE7mCKhFsu_fWY1Zhv1KatMAt_uMPo6H8V-zKYsgen81A=s64",
      "userId": "03088039596880553086"
     },
     "user_tz": 180
    },
    "id": "s-jxmKL4eaFY",
    "outputId": "ef032974-7e0c-477f-b7a6-efcc85f78b90"
   },
   "outputs": [
    {
     "name": "stdout",
     "output_type": "stream",
     "text": [
      "number of non-Portuguese reviews: 2157\n",
      "CPU times: user 4.63 s, sys: 8 ms, total: 4.64 s\n",
      "Wall time: 4.64 s\n"
     ]
    }
   ],
   "source": [
    "%%time\n",
    "list_idx = []\n",
    "for idx, row in df2.iterrows():\n",
    "    try:\n",
    "        string = str(row[reviews]).replace('\\r',' ').replace('\\n','').replace('<br />', ' ').lower()\n",
    "        predictions = model.predict(string)\n",
    "        language = predictions[0][0].replace('__label__','')\n",
    "    except:\n",
    "        language = \"error\"\n",
    "    if not (language == 'pt'):\n",
    "        list_idx.append(idx)\n",
    "        \n",
    "print(f'number of non-Portuguese reviews: {len(list_idx)}')"
   ]
  },
  {
   "cell_type": "code",
   "execution_count": 26,
   "metadata": {
    "colab": {
     "base_uri": "https://localhost:8080/",
     "height": 217
    },
    "colab_type": "code",
    "executionInfo": {
     "elapsed": 1330,
     "status": "ok",
     "timestamp": 1575286123884,
     "user": {
      "displayName": "Rubens Mau",
      "photoUrl": "https://lh3.googleusercontent.com/a-/AAuE7mCKhFsu_fWY1Zhv1KatMAt_uMPo6H8V-zKYsgen81A=s64",
      "userId": "03088039596880553086"
     },
     "user_tz": 180
    },
    "id": "QZ3ZrupeeaFd",
    "outputId": "45f566f5-b148-4bde-b9f2-5bbef99d9665"
   },
   "outputs": [
    {
     "data": {
      "text/plain": [
       "19                      Péssimo\n",
       "55                          boa\n",
       "67     Recomendo o vendedor... \n",
       "90                Super rápido.\n",
       "108                OK RECOMENDO\n",
       "142                       OTIMA\n",
       "160                          OK\n",
       "204             nada a declarar\n",
       "228                   Recomendo\n",
       "231                decepcionado\n",
       "Name: review_comment_message, dtype: object"
      ]
     },
     "execution_count": 26,
     "metadata": {},
     "output_type": "execute_result"
    }
   ],
   "source": [
    "df2[reviews][list_idx][:10]"
   ]
  },
  {
   "cell_type": "code",
   "execution_count": 27,
   "metadata": {
    "colab": {},
    "colab_type": "code",
    "id": "AhAi6_gXeaFh"
   },
   "outputs": [],
   "source": [
    "df2[reviews][list_idx].to_csv (path_data/'olist_reviews_tobechecked_pt.csv', index = None, header=True)"
   ]
  },
  {
   "cell_type": "markdown",
   "metadata": {
    "colab_type": "text",
    "id": "aVqHy6K_eaFk"
   },
   "source": [
    "After reading the 2 157 reviews labeled non Portuguese by fastText, we discovered that the majority was written in Portuguese. Therefore, we decided to keep all of them."
   ]
  },
  {
   "cell_type": "code",
   "execution_count": 28,
   "metadata": {
    "colab": {},
    "colab_type": "code",
    "id": "ls70ZJg_eaFl"
   },
   "outputs": [],
   "source": [
    "# df2.drop(list_idx, axis=0, inplace=True)\n",
    "df_trn_val = df2.copy()"
   ]
  },
  {
   "cell_type": "code",
   "execution_count": 29,
   "metadata": {},
   "outputs": [
    {
     "data": {
      "text/plain": [
       "review_id                 0\n",
       "review_comment_message    0\n",
       "review_score              0\n",
       "label                     0\n",
       "dtype: int64"
      ]
     },
     "execution_count": 29,
     "metadata": {},
     "output_type": "execute_result"
    }
   ],
   "source": [
    "df_trn_val.isnull().sum()"
   ]
  },
  {
   "cell_type": "code",
   "execution_count": 30,
   "metadata": {},
   "outputs": [
    {
     "data": {
      "text/plain": [
       "(37770, 4)"
      ]
     },
     "execution_count": 30,
     "metadata": {},
     "output_type": "execute_result"
    }
   ],
   "source": [
    "df_trn_val.shape"
   ]
  },
  {
   "cell_type": "markdown",
   "metadata": {
    "colab_type": "text",
    "id": "yO6bhWs_eaFp"
   },
   "source": [
    "#### Save filtered reviews dataset"
   ]
  },
  {
   "cell_type": "code",
   "execution_count": 31,
   "metadata": {
    "colab": {
     "base_uri": "https://localhost:8080/",
     "height": 319
    },
    "colab_type": "code",
    "executionInfo": {
     "elapsed": 1115,
     "status": "ok",
     "timestamp": 1575286208060,
     "user": {
      "displayName": "Rubens Mau",
      "photoUrl": "https://lh3.googleusercontent.com/a-/AAuE7mCKhFsu_fWY1Zhv1KatMAt_uMPo6H8V-zKYsgen81A=s64",
      "userId": "03088039596880553086"
     },
     "user_tz": 180
    },
    "id": "YuE7SEsseaFq",
    "outputId": "47907cd3-95b1-44c5-9224-7b4368ea1507"
   },
   "outputs": [
    {
     "name": "stdout",
     "output_type": "stream",
     "text": [
      "number of neg reviews (rating = 1 or 2): 11270 (29.84%)\n",
      "number of pos reviews (rating = 4 or 5): 26500 (70.16%)\n",
      "number of all reviews: 37770\n"
     ]
    },
    {
     "data": {
      "image/png": "[encoded data removed]",
      "text/plain": [
       "<Figure size 432x288 with 1 Axes>"
      ]
     },
     "metadata": {
      "needs_background": "light"
     },
     "output_type": "display_data"
    }
   ],
   "source": [
    "# number of reviews neg or pos\n",
    "num_neg = len(df_trn_val[df_trn_val[label] == 'neg'])\n",
    "num_pos = len(df_trn_val[df_trn_val[label] == 'pos'])\n",
    "num_neg_pos = len(df_trn_val)\n",
    "pc_neg = round((num_neg/num_neg_pos)*100,2)\n",
    "pc_pos = round((num_pos/num_neg_pos)*100,2)\n",
    "print(f'number of neg reviews (rating = 1 or 2): {num_neg} ({pc_neg}%)')\n",
    "print(f'number of pos reviews (rating = 4 or 5): {num_pos} ({pc_pos}%)')\n",
    "print(f'number of all reviews: {num_neg_pos}') \n",
    "\n",
    "# plot histogram\n",
    "x= [1,2]\n",
    "keys = list(df_trn_val[label].value_counts().keys())\n",
    "values = list(df_trn_val[label].value_counts().array)\n",
    "plt.bar(x, values[::-1]) \n",
    "plt.xticks(x, keys[::-1])\n",
    "# print(df_trn_val['label'].value_counts())\n",
    "plt.show()"
   ]
  },
  {
   "cell_type": "code",
   "execution_count": 32,
   "metadata": {
    "colab": {
     "base_uri": "https://localhost:8080/",
     "height": 198
    },
    "colab_type": "code",
    "executionInfo": {
     "elapsed": 1066,
     "status": "ok",
     "timestamp": 1575286221322,
     "user": {
      "displayName": "Rubens Mau",
      "photoUrl": "https://lh3.googleusercontent.com/a-/AAuE7mCKhFsu_fWY1Zhv1KatMAt_uMPo6H8V-zKYsgen81A=s64",
      "userId": "03088039596880553086"
     },
     "user_tz": 180
    },
    "id": "FM8z5I6IeaFu",
    "outputId": "b32bed83-f695-455d-b837-55a465095501"
   },
   "outputs": [
    {
     "data": {
      "text/plain": [
       "review_id                 0\n",
       "review_comment_message    0\n",
       "review_score              0\n",
       "label                     0\n",
       "dtype: int64"
      ]
     },
     "execution_count": 32,
     "metadata": {},
     "output_type": "execute_result"
    }
   ],
   "source": [
    "df_trn_val.isnull().sum()"
   ]
  },
  {
   "cell_type": "code",
   "execution_count": 33,
   "metadata": {
    "colab": {},
    "colab_type": "code",
    "id": "ACXAioggeaFx"
   },
   "outputs": [],
   "source": [
    "df_trn_val.to_csv (path_data/'olist_reviews_filtered_pt.csv', index = None, header=True, encoding='utf-8')"
   ]
  },
  {
   "cell_type": "code",
   "execution_count": 34,
   "metadata": {},
   "outputs": [
    {
     "data": {
      "text/plain": [
       "(37770, 4)"
      ]
     },
     "execution_count": 34,
     "metadata": {},
     "output_type": "execute_result"
    }
   ],
   "source": [
    "df_trn_val.shape"
   ]
  },
  {
   "cell_type": "code",
   "execution_count": 35,
   "metadata": {},
   "outputs": [
    {
     "data": {
      "text/plain": [
       "review_id                                  50873387202cf407932d93a264b36271\n",
       "review_comment_message    Estou aguardando a resposta de quando vão entr...\n",
       "review_score                                                              1\n",
       "label                                                                   neg\n",
       "Name: 27959, dtype: object"
      ]
     },
     "execution_count": 35,
     "metadata": {},
     "output_type": "execute_result"
    }
   ],
   "source": [
    "df_trn_val.iloc[10760]"
   ]
  },
  {
   "cell_type": "markdown",
   "metadata": {
    "colab_type": "text",
    "id": "-R03wqVIeaF1"
   },
   "source": [
    "### Get the csv of pre-processed data "
   ]
  },
  {
   "cell_type": "code",
   "execution_count": 36,
   "metadata": {
    "colab": {},
    "colab_type": "code",
    "id": "Q6Dn2QXZeaF1"
   },
   "outputs": [],
   "source": [
    "df2_trn_val = pd.read_csv(path_data/'olist_reviews_filtered_pt.csv', encoding='utf-8')\n"
   ]
  },
  {
   "cell_type": "code",
   "execution_count": 37,
   "metadata": {},
   "outputs": [
    {
     "data": {
      "text/plain": [
       "(37770, 4)"
      ]
     },
     "execution_count": 37,
     "metadata": {},
     "output_type": "execute_result"
    }
   ],
   "source": [
    "df2_trn_val.shape"
   ]
  },
  {
   "cell_type": "code",
   "execution_count": 38,
   "metadata": {
    "colab": {
     "base_uri": "https://localhost:8080/",
     "height": 198
    },
    "colab_type": "code",
    "executionInfo": {
     "elapsed": 1066,
     "status": "ok",
     "timestamp": 1575286221322,
     "user": {
      "displayName": "Rubens Mau",
      "photoUrl": "https://lh3.googleusercontent.com/a-/AAuE7mCKhFsu_fWY1Zhv1KatMAt_uMPo6H8V-zKYsgen81A=s64",
      "userId": "03088039596880553086"
     },
     "user_tz": 180
    },
    "id": "FM8z5I6IeaFu",
    "outputId": "b32bed83-f695-455d-b837-55a465095501"
   },
   "outputs": [
    {
     "data": {
      "text/plain": [
       "review_id                 0\n",
       "review_comment_message    0\n",
       "review_score              0\n",
       "label                     0\n",
       "dtype: int64"
      ]
     },
     "execution_count": 38,
     "metadata": {},
     "output_type": "execute_result"
    }
   ],
   "source": [
    "df2_trn_val.isnull().sum()"
   ]
  },
  {
   "cell_type": "markdown",
   "metadata": {
    "colab_type": "text",
    "id": "RL7TSlqBeaF5"
   },
   "source": [
    "## Fine-tuning \"forward LM\""
   ]
  },
  {
   "cell_type": "markdown",
   "metadata": {
    "colab_type": "text",
    "id": "ko9cfyMBeaF7"
   },
   "source": [
    "### Databunch"
   ]
  },
  {
   "cell_type": "code",
   "execution_count": 39,
   "metadata": {
    "colab": {
     "base_uri": "https://localhost:8080/",
     "height": 54
    },
    "colab_type": "code",
    "executionInfo": {
     "elapsed": 1086,
     "status": "ok",
     "timestamp": 1575287455827,
     "user": {
      "displayName": "Rubens Mau",
      "photoUrl": "https://lh3.googleusercontent.com/a-/AAuE7mCKhFsu_fWY1Zhv1KatMAt_uMPo6H8V-zKYsgen81A=s64",
      "userId": "03088039596880553086"
     },
     "user_tz": 180
    },
    "id": "EScreaoSbECD",
    "outputId": "b9589950-972d-4897-b5ab-beaf97e1a23a"
   },
   "outputs": [
    {
     "data": {
      "text/plain": [
       "(PosixPath('../../data'), PosixPath('../../data/olist'))"
      ]
     },
     "execution_count": 39,
     "metadata": {},
     "output_type": "execute_result"
    }
   ],
   "source": [
    "data_path, path_data"
   ]
  },
  {
   "cell_type": "code",
   "execution_count": 40,
   "metadata": {},
   "outputs": [
    {
     "data": {
      "text/plain": [
       "[PosixPath('../../data/ptwiki/tmp/spm.vocab'),\n",
       " PosixPath('../../data/ptwiki/tmp/spm.model')]"
      ]
     },
     "execution_count": 40,
     "metadata": {},
     "output_type": "execute_result"
    }
   ],
   "source": [
    "dest = data_path/'ptwiki'\n",
    "(dest/'tmp').ls()"
   ]
  },
  {
   "cell_type": "code",
   "execution_count": 41,
   "metadata": {
    "colab": {
     "base_uri": "https://localhost:8080/",
     "height": 415
    },
    "colab_type": "code",
    "executionInfo": {
     "elapsed": 22,
     "status": "error",
     "timestamp": 1575287582670,
     "user": {
      "displayName": "Rubens Mau",
      "photoUrl": "https://lh3.googleusercontent.com/a-/AAuE7mCKhFsu_fWY1Zhv1KatMAt_uMPo6H8V-zKYsgen81A=s64",
      "userId": "03088039596880553086"
     },
     "user_tz": 180
    },
    "id": "ZZa8e20_eaF_",
    "outputId": "6d3fc1a4-8b5e-4777-fa22-5a26d7880e1f"
   },
   "outputs": [
    {
     "name": "stdout",
     "output_type": "stream",
     "text": [
      "CPU times: user 1.49 s, sys: 148 ms, total: 1.64 s\n",
      "Wall time: 2.41 s\n"
     ]
    }
   ],
   "source": [
    "%%time\n",
    "data_lm = (TextList.from_df(df2_trn_val, path, cols=reviews, \n",
    "                            processor= SPProcessor.load(dest))\n",
    "    .split_by_rand_pct(0.1, seed=42)\n",
    "    .label_for_lm()           \n",
    "    .databunch(bs=bs, num_workers=1))"
   ]
  },
  {
   "cell_type": "code",
   "execution_count": 42,
   "metadata": {
    "colab": {},
    "colab_type": "code",
    "id": "CPDs11FEeaGE"
   },
   "outputs": [],
   "source": [
    "data_lm.save(f'{path}/{lang}_databunch_lm_aws_sp15_multifit')"
   ]
  },
  {
   "cell_type": "code",
   "execution_count": 43,
   "metadata": {},
   "outputs": [
    {
     "data": {
      "text/plain": [
       "PosixPath('../../data/ptwiki')"
      ]
     },
     "execution_count": 43,
     "metadata": {},
     "output_type": "execute_result"
    }
   ],
   "source": [
    "path"
   ]
  },
  {
   "cell_type": "markdown",
   "metadata": {
    "colab_type": "text",
    "id": "XF2_iJFFeaGH"
   },
   "source": [
    "### Training"
   ]
  },
  {
   "cell_type": "code",
   "execution_count": 44,
   "metadata": {
    "colab": {},
    "colab_type": "code",
    "id": "pegJUmz_eaGH"
   },
   "outputs": [],
   "source": [
    "data_lm = load_data(path, f'{lang}_databunch_lm_aws_sp15_multifit', bs=bs)"
   ]
  },
  {
   "cell_type": "code",
   "execution_count": 45,
   "metadata": {
    "colab": {},
    "colab_type": "code",
    "id": "tCVYGFa8eaGL"
   },
   "outputs": [],
   "source": [
    "config = awd_lstm_lm_config.copy()\n",
    "config['qrnn'] = True\n",
    "config['n_hid'] = 1550 #default 1152\n",
    "config['n_layers'] = 4 #default 3"
   ]
  },
  {
   "cell_type": "code",
   "execution_count": 46,
   "metadata": {
    "colab": {},
    "colab_type": "code",
    "id": "wsTUZr2KeaGO",
    "outputId": "acbb55a0-9e49-46bc-c694-84f0f17cd052"
   },
   "outputs": [
    {
     "name": "stdout",
     "output_type": "stream",
     "text": [
      "CPU times: user 2.84 s, sys: 896 ms, total: 3.74 s\n",
      "Wall time: 3.65 s\n"
     ]
    }
   ],
   "source": [
    "%%time\n",
    "perplexity = Perplexity()\n",
    "learn_lm = language_model_learner(data_lm, AWD_LSTM, config=config, pretrained_fnames=lm_fns3, drop_mult=1., \n",
    "                                  metrics=[error_rate, accuracy, perplexity]).to_fp16()"
   ]
  },
  {
   "cell_type": "code",
   "execution_count": 47,
   "metadata": {
    "colab": {},
    "colab_type": "code",
    "id": "0DBcUpeLeaGT",
    "outputId": "802f38e1-6441-4c03-ccdf-a3b74a7f5d79"
   },
   "outputs": [
    {
     "data": {
      "text/html": [],
      "text/plain": [
       "<IPython.core.display.HTML object>"
      ]
     },
     "metadata": {},
     "output_type": "display_data"
    },
    {
     "name": "stdout",
     "output_type": "stream",
     "text": [
      "LR Finder is complete, type {learner_name}.recorder.plot() to see the graph.\n"
     ]
    }
   ],
   "source": [
    "learn_lm.lr_find()"
   ]
  },
  {
   "cell_type": "code",
   "execution_count": 48,
   "metadata": {
    "colab": {},
    "colab_type": "code",
    "id": "30Cm1srVeaGa",
    "outputId": "72057830-f320-44a7-fffd-85ae4692ae28"
   },
   "outputs": [
    {
     "data": {
      "image/png": "[encoded data removed]",
      "text/plain": [
       "<Figure size 432x288 with 1 Axes>"
      ]
     },
     "metadata": {
      "needs_background": "light"
     },
     "output_type": "display_data"
    }
   ],
   "source": [
    "learn_lm.recorder.plot()"
   ]
  },
  {
   "cell_type": "code",
   "execution_count": 49,
   "metadata": {
    "colab": {},
    "colab_type": "code",
    "id": "qwS2QKs3eaGg"
   },
   "outputs": [],
   "source": [
    "lr = 2e-2\n",
    "lr *= bs/48\n",
    "\n",
    "wd = 0.1"
   ]
  },
  {
   "cell_type": "code",
   "execution_count": 50,
   "metadata": {
    "colab": {},
    "colab_type": "code",
    "id": "5TtvbhDYeaGj",
    "outputId": "809a70b0-ec2d-4797-ef1e-a3c163ebfe5a"
   },
   "outputs": [
    {
     "data": {
      "text/html": [
       "<table border=\"1\" class=\"dataframe\">\n",
       "  <thead>\n",
       "    <tr style=\"text-align: left;\">\n",
       "      <th>epoch</th>\n",
       "      <th>train_loss</th>\n",
       "      <th>valid_loss</th>\n",
       "      <th>error_rate</th>\n",
       "      <th>accuracy</th>\n",
       "      <th>perplexity</th>\n",
       "      <th>time</th>\n",
       "    </tr>\n",
       "  </thead>\n",
       "  <tbody>\n",
       "    <tr>\n",
       "      <td>0</td>\n",
       "      <td>17.693144</td>\n",
       "      <td>10.720593</td>\n",
       "      <td>0.924526</td>\n",
       "      <td>0.075474</td>\n",
       "      <td>45278.722656</td>\n",
       "      <td>00:10</td>\n",
       "    </tr>\n",
       "    <tr>\n",
       "      <td>1</td>\n",
       "      <td>6.935668</td>\n",
       "      <td>5.740030</td>\n",
       "      <td>0.894030</td>\n",
       "      <td>0.105970</td>\n",
       "      <td>311.073700</td>\n",
       "      <td>00:10</td>\n",
       "    </tr>\n",
       "  </tbody>\n",
       "</table>"
      ],
      "text/plain": [
       "<IPython.core.display.HTML object>"
      ]
     },
     "metadata": {},
     "output_type": "display_data"
    }
   ],
   "source": [
    "learn_lm.fit_one_cycle(2, lr*10, wd=wd, moms=(0.8,0.7))"
   ]
  },
  {
   "cell_type": "code",
   "execution_count": 51,
   "metadata": {
    "colab": {},
    "colab_type": "code",
    "id": "tQeB1lNCeaGm"
   },
   "outputs": [],
   "source": [
    "learn_lm.save(f'{lang}fine_tuned1_sp15_multifit')\n",
    "learn_lm.save_encoder(f'{lang}fine_tuned1_enc_sp15_multifit')"
   ]
  },
  {
   "cell_type": "code",
   "execution_count": 52,
   "metadata": {
    "colab": {},
    "colab_type": "code",
    "id": "mwvLruxkeaGo",
    "outputId": "16c0a60b-5ab5-4843-8cd8-ab675363bda8"
   },
   "outputs": [
    {
     "data": {
      "text/html": [
       "<table border=\"1\" class=\"dataframe\">\n",
       "  <thead>\n",
       "    <tr style=\"text-align: left;\">\n",
       "      <th>epoch</th>\n",
       "      <th>train_loss</th>\n",
       "      <th>valid_loss</th>\n",
       "      <th>error_rate</th>\n",
       "      <th>accuracy</th>\n",
       "      <th>perplexity</th>\n",
       "      <th>time</th>\n",
       "    </tr>\n",
       "  </thead>\n",
       "  <tbody>\n",
       "    <tr>\n",
       "      <td>0</td>\n",
       "      <td>5.236345</td>\n",
       "      <td>5.032424</td>\n",
       "      <td>0.812346</td>\n",
       "      <td>0.187654</td>\n",
       "      <td>153.304169</td>\n",
       "      <td>00:14</td>\n",
       "    </tr>\n",
       "    <tr>\n",
       "      <td>1</td>\n",
       "      <td>4.612553</td>\n",
       "      <td>4.335454</td>\n",
       "      <td>0.752827</td>\n",
       "      <td>0.247173</td>\n",
       "      <td>76.359650</td>\n",
       "      <td>00:14</td>\n",
       "    </tr>\n",
       "    <tr>\n",
       "      <td>2</td>\n",
       "      <td>4.117610</td>\n",
       "      <td>3.924456</td>\n",
       "      <td>0.718887</td>\n",
       "      <td>0.281113</td>\n",
       "      <td>50.625488</td>\n",
       "      <td>00:14</td>\n",
       "    </tr>\n",
       "    <tr>\n",
       "      <td>3</td>\n",
       "      <td>3.893606</td>\n",
       "      <td>3.767820</td>\n",
       "      <td>0.710466</td>\n",
       "      <td>0.289534</td>\n",
       "      <td>43.285603</td>\n",
       "      <td>00:14</td>\n",
       "    </tr>\n",
       "    <tr>\n",
       "      <td>4</td>\n",
       "      <td>3.756127</td>\n",
       "      <td>3.690924</td>\n",
       "      <td>0.697023</td>\n",
       "      <td>0.302977</td>\n",
       "      <td>40.081875</td>\n",
       "      <td>00:14</td>\n",
       "    </tr>\n",
       "    <tr>\n",
       "      <td>5</td>\n",
       "      <td>3.690539</td>\n",
       "      <td>3.645582</td>\n",
       "      <td>0.696150</td>\n",
       "      <td>0.303850</td>\n",
       "      <td>38.305077</td>\n",
       "      <td>00:14</td>\n",
       "    </tr>\n",
       "    <tr>\n",
       "      <td>6</td>\n",
       "      <td>3.632659</td>\n",
       "      <td>3.596213</td>\n",
       "      <td>0.689669</td>\n",
       "      <td>0.310331</td>\n",
       "      <td>36.459885</td>\n",
       "      <td>00:14</td>\n",
       "    </tr>\n",
       "    <tr>\n",
       "      <td>7</td>\n",
       "      <td>3.529925</td>\n",
       "      <td>3.560600</td>\n",
       "      <td>0.685143</td>\n",
       "      <td>0.314857</td>\n",
       "      <td>35.184303</td>\n",
       "      <td>00:14</td>\n",
       "    </tr>\n",
       "    <tr>\n",
       "      <td>8</td>\n",
       "      <td>3.453233</td>\n",
       "      <td>3.524912</td>\n",
       "      <td>0.682677</td>\n",
       "      <td>0.317323</td>\n",
       "      <td>33.950783</td>\n",
       "      <td>00:14</td>\n",
       "    </tr>\n",
       "    <tr>\n",
       "      <td>9</td>\n",
       "      <td>3.365245</td>\n",
       "      <td>3.479806</td>\n",
       "      <td>0.677007</td>\n",
       "      <td>0.322992</td>\n",
       "      <td>32.453453</td>\n",
       "      <td>00:14</td>\n",
       "    </tr>\n",
       "    <tr>\n",
       "      <td>10</td>\n",
       "      <td>3.255865</td>\n",
       "      <td>3.444026</td>\n",
       "      <td>0.672045</td>\n",
       "      <td>0.327955</td>\n",
       "      <td>31.312746</td>\n",
       "      <td>00:14</td>\n",
       "    </tr>\n",
       "    <tr>\n",
       "      <td>11</td>\n",
       "      <td>3.139982</td>\n",
       "      <td>3.416238</td>\n",
       "      <td>0.666677</td>\n",
       "      <td>0.333323</td>\n",
       "      <td>30.454643</td>\n",
       "      <td>00:14</td>\n",
       "    </tr>\n",
       "    <tr>\n",
       "      <td>12</td>\n",
       "      <td>3.034035</td>\n",
       "      <td>3.405065</td>\n",
       "      <td>0.664135</td>\n",
       "      <td>0.335865</td>\n",
       "      <td>30.116264</td>\n",
       "      <td>00:14</td>\n",
       "    </tr>\n",
       "    <tr>\n",
       "      <td>13</td>\n",
       "      <td>2.955621</td>\n",
       "      <td>3.404035</td>\n",
       "      <td>0.663624</td>\n",
       "      <td>0.336376</td>\n",
       "      <td>30.085230</td>\n",
       "      <td>00:14</td>\n",
       "    </tr>\n",
       "    <tr>\n",
       "      <td>14</td>\n",
       "      <td>2.899781</td>\n",
       "      <td>3.407166</td>\n",
       "      <td>0.663459</td>\n",
       "      <td>0.336541</td>\n",
       "      <td>30.179573</td>\n",
       "      <td>00:14</td>\n",
       "    </tr>\n",
       "  </tbody>\n",
       "</table>"
      ],
      "text/plain": [
       "<IPython.core.display.HTML object>"
      ]
     },
     "metadata": {},
     "output_type": "display_data"
    },
    {
     "data": {
      "image/png": "[encoded data removed]",
      "text/plain": [
       "<Figure size 432x288 with 1 Axes>"
      ]
     },
     "metadata": {},
     "output_type": "display_data"
    }
   ],
   "source": [
    "learn_lm.unfreeze()\n",
    "learn_lm.fit_one_cycle(15, lr, wd=wd, moms=(0.8,0.7), callbacks=[ShowGraph(learn_lm)])"
   ]
  },
  {
   "cell_type": "code",
   "execution_count": 53,
   "metadata": {
    "colab": {},
    "colab_type": "code",
    "id": "leynEX2-eaGr"
   },
   "outputs": [],
   "source": [
    "learn_lm.save(f'{lang}fine_tuned2_sp15_multifit')\n",
    "learn_lm.save_encoder(f'{lang}fine_tuned2_enc_sp15_multifit')"
   ]
  },
  {
   "cell_type": "markdown",
   "metadata": {
    "colab_type": "text",
    "id": "cO2hQ9pQeaGw"
   },
   "source": [
    "Save best LM learner and its encoder"
   ]
  },
  {
   "cell_type": "code",
   "execution_count": 54,
   "metadata": {
    "colab": {},
    "colab_type": "code",
    "id": "HRDQU4DOeaGx"
   },
   "outputs": [],
   "source": [
    "learn_lm.save(f'{lang}fine_tuned_sp15_multifit')\n",
    "learn_lm.save_encoder(f'{lang}fine_tuned_enc_sp15_multifit')"
   ]
  },
  {
   "cell_type": "code",
   "execution_count": 55,
   "metadata": {},
   "outputs": [
    {
     "data": {
      "text/plain": [
       "SequentialRNN(\n",
       "  (0): AWD_LSTM(\n",
       "    (encoder): Embedding(6328, 400, padding_idx=1)\n",
       "    (encoder_dp): EmbeddingDropout(\n",
       "      (emb): Embedding(6328, 400, padding_idx=1)\n",
       "    )\n",
       "    (rnns): ModuleList(\n",
       "      (0): QRNN(\n",
       "        (layers): ModuleList(\n",
       "          (0): QRNNLayer(\n",
       "            (linear): WeightDropout(\n",
       "              (module): Linear(in_features=800, out_features=4650, bias=True)\n",
       "            )\n",
       "          )\n",
       "        )\n",
       "      )\n",
       "      (1): QRNN(\n",
       "        (layers): ModuleList(\n",
       "          (0): QRNNLayer(\n",
       "            (linear): WeightDropout(\n",
       "              (module): Linear(in_features=1550, out_features=4650, bias=True)\n",
       "            )\n",
       "          )\n",
       "        )\n",
       "      )\n",
       "      (2): QRNN(\n",
       "        (layers): ModuleList(\n",
       "          (0): QRNNLayer(\n",
       "            (linear): WeightDropout(\n",
       "              (module): Linear(in_features=1550, out_features=4650, bias=True)\n",
       "            )\n",
       "          )\n",
       "        )\n",
       "      )\n",
       "      (3): QRNN(\n",
       "        (layers): ModuleList(\n",
       "          (0): QRNNLayer(\n",
       "            (linear): WeightDropout(\n",
       "              (module): Linear(in_features=1550, out_features=1200, bias=True)\n",
       "            )\n",
       "          )\n",
       "        )\n",
       "      )\n",
       "    )\n",
       "    (input_dp): RNNDropout()\n",
       "    (hidden_dps): ModuleList(\n",
       "      (0): RNNDropout()\n",
       "      (1): RNNDropout()\n",
       "      (2): RNNDropout()\n",
       "      (3): RNNDropout()\n",
       "    )\n",
       "  )\n",
       "  (1): LinearDecoder(\n",
       "    (decoder): Linear(in_features=400, out_features=6328, bias=True)\n",
       "    (output_dp): RNNDropout()\n",
       "  )\n",
       ")"
      ]
     },
     "execution_count": 55,
     "metadata": {},
     "output_type": "execute_result"
    }
   ],
   "source": [
    "learn_lm.model"
   ]
  },
  {
   "cell_type": "markdown",
   "metadata": {
    "colab_type": "text",
    "heading_collapsed": true,
    "id": "zLpm5jvueaG1"
   },
   "source": [
    "## Fine-tuning \"backward LM\""
   ]
  },
  {
   "cell_type": "markdown",
   "metadata": {
    "colab_type": "text",
    "hidden": true,
    "id": "FXyjhKb9eaG6"
   },
   "source": [
    "### Databunch"
   ]
  },
  {
   "cell_type": "code",
   "execution_count": 56,
   "metadata": {},
   "outputs": [
    {
     "data": {
      "text/plain": [
       "(37770, 4)"
      ]
     },
     "execution_count": 56,
     "metadata": {},
     "output_type": "execute_result"
    }
   ],
   "source": [
    "df_trn_val.shape"
   ]
  },
  {
   "cell_type": "code",
   "execution_count": 57,
   "metadata": {
    "colab": {},
    "colab_type": "code",
    "hidden": true,
    "id": "wm5IImrbeaG8",
    "outputId": "bf71be65-a3b8-4e06-9900-412dde09e347"
   },
   "outputs": [
    {
     "name": "stdout",
     "output_type": "stream",
     "text": [
      "CPU times: user 1.5 s, sys: 268 ms, total: 1.77 s\n",
      "Wall time: 2.61 s\n"
     ]
    }
   ],
   "source": [
    "%%time\n",
    "data_lm = (TextList.from_df(df2_trn_val, path, cols=reviews, \n",
    "                            processor=SPProcessor.load(dest))\n",
    "    .split_by_rand_pct(0.1, seed=42)\n",
    "    .label_for_lm()           \n",
    "    .databunch(bs=bs, num_workers=1, backwards=True))"
   ]
  },
  {
   "cell_type": "code",
   "execution_count": 58,
   "metadata": {
    "colab": {},
    "colab_type": "code",
    "hidden": true,
    "id": "QrWIAhmCeaHB"
   },
   "outputs": [],
   "source": [
    "data_lm.save(f'{path}/{lang}_databunch_lm_aws_sp15_multifit_bwd')"
   ]
  },
  {
   "cell_type": "markdown",
   "metadata": {
    "colab_type": "text",
    "hidden": true,
    "id": "RZ2aD1TFeaHF"
   },
   "source": [
    "### Training"
   ]
  },
  {
   "cell_type": "code",
   "execution_count": 59,
   "metadata": {
    "colab": {},
    "colab_type": "code",
    "hidden": true,
    "id": "c897KksAeaHH",
    "outputId": "45e5af28-d04a-4b5b-dbe3-4813a0faa07c"
   },
   "outputs": [
    {
     "name": "stdout",
     "output_type": "stream",
     "text": [
      "CPU times: user 220 ms, sys: 16 ms, total: 236 ms\n",
      "Wall time: 236 ms\n"
     ]
    }
   ],
   "source": [
    "%%time\n",
    "data_lm = load_data(path, f'{lang}_databunch_lm_aws_sp15_multifit_bwd', bs=bs, backwards=True)"
   ]
  },
  {
   "cell_type": "code",
   "execution_count": 60,
   "metadata": {
    "colab": {},
    "colab_type": "code",
    "hidden": true,
    "id": "ZX4ig3aoeaHN"
   },
   "outputs": [],
   "source": [
    "config = awd_lstm_lm_config.copy()\n",
    "config['qrnn'] = True\n",
    "config['n_hid'] = 1550 #default 1152\n",
    "config['n_layers'] = 4 #default 3"
   ]
  },
  {
   "cell_type": "code",
   "execution_count": 61,
   "metadata": {
    "colab": {},
    "colab_type": "code",
    "hidden": true,
    "id": "odybZpgweaHT",
    "outputId": "4bef435e-8bd5-4913-de24-ba98a2aa10d9"
   },
   "outputs": [
    {
     "name": "stdout",
     "output_type": "stream",
     "text": [
      "CPU times: user 532 ms, sys: 128 ms, total: 660 ms\n",
      "Wall time: 509 ms\n"
     ]
    }
   ],
   "source": [
    "%%time\n",
    "perplexity = Perplexity()\n",
    "learn_lm = language_model_learner(data_lm, AWD_LSTM, config=config, pretrained_fnames=lm_fns3_bwd, drop_mult=1., \n",
    "                                  metrics=[error_rate, accuracy, perplexity]).to_fp16()"
   ]
  },
  {
   "cell_type": "code",
   "execution_count": 62,
   "metadata": {
    "colab": {},
    "colab_type": "code",
    "hidden": true,
    "id": "3oCl2is4eaHX",
    "outputId": "644fb0f1-f0be-431f-c81a-0b65a3d460fe"
   },
   "outputs": [
    {
     "data": {
      "text/html": [],
      "text/plain": [
       "<IPython.core.display.HTML object>"
      ]
     },
     "metadata": {},
     "output_type": "display_data"
    },
    {
     "name": "stdout",
     "output_type": "stream",
     "text": [
      "LR Finder is complete, type {learner_name}.recorder.plot() to see the graph.\n"
     ]
    }
   ],
   "source": [
    "learn_lm.lr_find()"
   ]
  },
  {
   "cell_type": "code",
   "execution_count": 63,
   "metadata": {
    "colab": {},
    "colab_type": "code",
    "hidden": true,
    "id": "SLtXX29YeaHf",
    "outputId": "69d54063-ce15-4e91-cccb-c097919b2d11"
   },
   "outputs": [
    {
     "data": {
      "image/png": "[encoded data removed]",
      "text/plain": [
       "<Figure size 432x288 with 1 Axes>"
      ]
     },
     "metadata": {
      "needs_background": "light"
     },
     "output_type": "display_data"
    }
   ],
   "source": [
    "learn_lm.recorder.plot()"
   ]
  },
  {
   "cell_type": "code",
   "execution_count": 64,
   "metadata": {
    "colab": {},
    "colab_type": "code",
    "hidden": true,
    "id": "xQq8JkJ8eaHh"
   },
   "outputs": [],
   "source": [
    "lr = 2e-2\n",
    "lr *= bs/48\n",
    "\n",
    "wd = 0.1"
   ]
  },
  {
   "cell_type": "code",
   "execution_count": 65,
   "metadata": {
    "colab": {},
    "colab_type": "code",
    "hidden": true,
    "id": "8nECkFajeaHj",
    "outputId": "656ba9b1-986d-42c2-c12a-43b4548f3642"
   },
   "outputs": [
    {
     "data": {
      "text/html": [
       "<table border=\"1\" class=\"dataframe\">\n",
       "  <thead>\n",
       "    <tr style=\"text-align: left;\">\n",
       "      <th>epoch</th>\n",
       "      <th>train_loss</th>\n",
       "      <th>valid_loss</th>\n",
       "      <th>error_rate</th>\n",
       "      <th>accuracy</th>\n",
       "      <th>perplexity</th>\n",
       "      <th>time</th>\n",
       "    </tr>\n",
       "  </thead>\n",
       "  <tbody>\n",
       "    <tr>\n",
       "      <td>0</td>\n",
       "      <td>22.441380</td>\n",
       "      <td>11.362500</td>\n",
       "      <td>0.951624</td>\n",
       "      <td>0.048376</td>\n",
       "      <td>86034.117188</td>\n",
       "      <td>00:10</td>\n",
       "    </tr>\n",
       "    <tr>\n",
       "      <td>1</td>\n",
       "      <td>8.904193</td>\n",
       "      <td>6.193478</td>\n",
       "      <td>0.911368</td>\n",
       "      <td>0.088632</td>\n",
       "      <td>489.546082</td>\n",
       "      <td>00:10</td>\n",
       "    </tr>\n",
       "  </tbody>\n",
       "</table>"
      ],
      "text/plain": [
       "<IPython.core.display.HTML object>"
      ]
     },
     "metadata": {},
     "output_type": "display_data"
    }
   ],
   "source": [
    "learn_lm.fit_one_cycle(2, lr*10, wd=wd, moms=(0.8,0.7))"
   ]
  },
  {
   "cell_type": "code",
   "execution_count": 66,
   "metadata": {
    "colab": {},
    "colab_type": "code",
    "hidden": true,
    "id": "IFL2d1lgeaHl"
   },
   "outputs": [],
   "source": [
    "learn_lm.save(f'{lang}fine_tuned1_sp15_multifit_bwd')\n",
    "learn_lm.save_encoder(f'{lang}fine_tuned1_enc_sp15_multifit_bwd')"
   ]
  },
  {
   "cell_type": "code",
   "execution_count": 67,
   "metadata": {
    "colab": {},
    "colab_type": "code",
    "hidden": true,
    "id": "VBvMVIeheaHo",
    "outputId": "e33afe96-f04f-4a04-fb60-28d3dfc6fbcd"
   },
   "outputs": [
    {
     "data": {
      "text/html": [
       "<table border=\"1\" class=\"dataframe\">\n",
       "  <thead>\n",
       "    <tr style=\"text-align: left;\">\n",
       "      <th>epoch</th>\n",
       "      <th>train_loss</th>\n",
       "      <th>valid_loss</th>\n",
       "      <th>error_rate</th>\n",
       "      <th>accuracy</th>\n",
       "      <th>perplexity</th>\n",
       "      <th>time</th>\n",
       "    </tr>\n",
       "  </thead>\n",
       "  <tbody>\n",
       "    <tr>\n",
       "      <td>0</td>\n",
       "      <td>5.673250</td>\n",
       "      <td>5.516432</td>\n",
       "      <td>0.863790</td>\n",
       "      <td>0.136211</td>\n",
       "      <td>248.745865</td>\n",
       "      <td>00:14</td>\n",
       "    </tr>\n",
       "    <tr>\n",
       "      <td>1</td>\n",
       "      <td>5.053987</td>\n",
       "      <td>4.806574</td>\n",
       "      <td>0.779428</td>\n",
       "      <td>0.220571</td>\n",
       "      <td>122.311966</td>\n",
       "      <td>00:14</td>\n",
       "    </tr>\n",
       "    <tr>\n",
       "      <td>2</td>\n",
       "      <td>4.438440</td>\n",
       "      <td>4.208589</td>\n",
       "      <td>0.712647</td>\n",
       "      <td>0.287353</td>\n",
       "      <td>67.261574</td>\n",
       "      <td>00:14</td>\n",
       "    </tr>\n",
       "    <tr>\n",
       "      <td>3</td>\n",
       "      <td>4.067228</td>\n",
       "      <td>3.920103</td>\n",
       "      <td>0.686346</td>\n",
       "      <td>0.313654</td>\n",
       "      <td>50.405663</td>\n",
       "      <td>00:14</td>\n",
       "    </tr>\n",
       "    <tr>\n",
       "      <td>4</td>\n",
       "      <td>3.905184</td>\n",
       "      <td>3.816694</td>\n",
       "      <td>0.675248</td>\n",
       "      <td>0.324752</td>\n",
       "      <td>45.453690</td>\n",
       "      <td>00:14</td>\n",
       "    </tr>\n",
       "    <tr>\n",
       "      <td>5</td>\n",
       "      <td>3.780110</td>\n",
       "      <td>3.727648</td>\n",
       "      <td>0.668571</td>\n",
       "      <td>0.331429</td>\n",
       "      <td>41.581215</td>\n",
       "      <td>00:14</td>\n",
       "    </tr>\n",
       "    <tr>\n",
       "      <td>6</td>\n",
       "      <td>3.696398</td>\n",
       "      <td>3.670497</td>\n",
       "      <td>0.662361</td>\n",
       "      <td>0.337639</td>\n",
       "      <td>39.271446</td>\n",
       "      <td>00:14</td>\n",
       "    </tr>\n",
       "    <tr>\n",
       "      <td>7</td>\n",
       "      <td>3.640896</td>\n",
       "      <td>3.623012</td>\n",
       "      <td>0.655624</td>\n",
       "      <td>0.344376</td>\n",
       "      <td>37.450199</td>\n",
       "      <td>00:14</td>\n",
       "    </tr>\n",
       "    <tr>\n",
       "      <td>8</td>\n",
       "      <td>3.549453</td>\n",
       "      <td>3.584831</td>\n",
       "      <td>0.651850</td>\n",
       "      <td>0.348150</td>\n",
       "      <td>36.047283</td>\n",
       "      <td>00:14</td>\n",
       "    </tr>\n",
       "    <tr>\n",
       "      <td>9</td>\n",
       "      <td>3.459952</td>\n",
       "      <td>3.542130</td>\n",
       "      <td>0.645007</td>\n",
       "      <td>0.354992</td>\n",
       "      <td>34.540413</td>\n",
       "      <td>00:14</td>\n",
       "    </tr>\n",
       "    <tr>\n",
       "      <td>10</td>\n",
       "      <td>3.357236</td>\n",
       "      <td>3.496498</td>\n",
       "      <td>0.639820</td>\n",
       "      <td>0.360180</td>\n",
       "      <td>32.999672</td>\n",
       "      <td>00:14</td>\n",
       "    </tr>\n",
       "    <tr>\n",
       "      <td>11</td>\n",
       "      <td>3.273029</td>\n",
       "      <td>3.463805</td>\n",
       "      <td>0.635399</td>\n",
       "      <td>0.364602</td>\n",
       "      <td>31.938253</td>\n",
       "      <td>00:14</td>\n",
       "    </tr>\n",
       "    <tr>\n",
       "      <td>12</td>\n",
       "      <td>3.163853</td>\n",
       "      <td>3.443298</td>\n",
       "      <td>0.632060</td>\n",
       "      <td>0.367940</td>\n",
       "      <td>31.289986</td>\n",
       "      <td>00:14</td>\n",
       "    </tr>\n",
       "    <tr>\n",
       "      <td>13</td>\n",
       "      <td>3.099865</td>\n",
       "      <td>3.440064</td>\n",
       "      <td>0.631293</td>\n",
       "      <td>0.368707</td>\n",
       "      <td>31.188967</td>\n",
       "      <td>00:14</td>\n",
       "    </tr>\n",
       "    <tr>\n",
       "      <td>14</td>\n",
       "      <td>3.047976</td>\n",
       "      <td>3.440152</td>\n",
       "      <td>0.630526</td>\n",
       "      <td>0.369474</td>\n",
       "      <td>31.191689</td>\n",
       "      <td>00:14</td>\n",
       "    </tr>\n",
       "  </tbody>\n",
       "</table>"
      ],
      "text/plain": [
       "<IPython.core.display.HTML object>"
      ]
     },
     "metadata": {},
     "output_type": "display_data"
    },
    {
     "data": {
      "image/png": "[encoded data removed]",
      "text/plain": [
       "<Figure size 432x288 with 1 Axes>"
      ]
     },
     "metadata": {},
     "output_type": "display_data"
    }
   ],
   "source": [
    "learn_lm.unfreeze()\n",
    "learn_lm.fit_one_cycle(15, lr, wd=wd, moms=(0.8,0.7), callbacks=[ShowGraph(learn_lm)])"
   ]
  },
  {
   "cell_type": "code",
   "execution_count": 68,
   "metadata": {
    "colab": {},
    "colab_type": "code",
    "hidden": true,
    "id": "jruD9tDyeaHt"
   },
   "outputs": [],
   "source": [
    "learn_lm.save(f'{lang}fine_tuned2_sp15_multifit_bwd')\n",
    "learn_lm.save_encoder(f'{lang}fine_tuned2_enc_sp15_multifit_bwd')"
   ]
  },
  {
   "cell_type": "markdown",
   "metadata": {
    "colab_type": "text",
    "hidden": true,
    "id": "1sAJkDXneaHv"
   },
   "source": [
    "Save best LM learner and its encoder"
   ]
  },
  {
   "cell_type": "code",
   "execution_count": 69,
   "metadata": {
    "colab": {},
    "colab_type": "code",
    "hidden": true,
    "id": "h41cOs3xeaHw"
   },
   "outputs": [],
   "source": [
    "learn_lm.save(f'{lang}fine_tuned_sp15_multifit_bwd')\n",
    "learn_lm.save_encoder(f'{lang}fine_tuned_enc_sp15_multifit_bwd')"
   ]
  },
  {
   "cell_type": "markdown",
   "metadata": {
    "colab_type": "text",
    "id": "J176c4FgeaHz"
   },
   "source": [
    "## Fine-tuning \"forward Classifier\""
   ]
  },
  {
   "cell_type": "code",
   "execution_count": 70,
   "metadata": {
    "colab": {},
    "colab_type": "code",
    "id": "W6IwLbaueaH0"
   },
   "outputs": [],
   "source": [
    "import warnings\n",
    "warnings.filterwarnings('ignore')  # \"error\", \"ignore\", \"always\", \"default\", \"module\" or \"on"
   ]
  },
  {
   "cell_type": "code",
   "execution_count": 71,
   "metadata": {
    "colab": {},
    "colab_type": "code",
    "id": "k6x-r_4keaH2"
   },
   "outputs": [],
   "source": [
    "bs = 18"
   ]
  },
  {
   "cell_type": "markdown",
   "metadata": {
    "colab_type": "text",
    "heading_collapsed": true,
    "id": "BKeUek3ReaH4"
   },
   "source": [
    "### Databunch"
   ]
  },
  {
   "cell_type": "code",
   "execution_count": 72,
   "metadata": {
    "colab": {},
    "colab_type": "code",
    "hidden": true,
    "id": "KsDrYizzeaH8",
    "outputId": "0d039701-324f-4d04-b47b-b1e942bf9293"
   },
   "outputs": [
    {
     "name": "stdout",
     "output_type": "stream",
     "text": [
      "CPU times: user 204 ms, sys: 8 ms, total: 212 ms\n",
      "Wall time: 207 ms\n"
     ]
    }
   ],
   "source": [
    "%%time\n",
    "data_lm = load_data(path, f'{lang}_databunch_lm_aws_sp15_multifit', bs=bs)"
   ]
  },
  {
   "cell_type": "code",
   "execution_count": 73,
   "metadata": {
    "colab": {},
    "colab_type": "code",
    "hidden": true,
    "id": "UE4hxK6teaH_"
   },
   "outputs": [],
   "source": [
    "#keep reviews with a label not nan\n",
    "#df2_trn_val = df_trn_val[df_trn_val[label].notnull()].copy()\n",
    "#print(len(df2_trn_val))\n",
    "#df2_trn_val.head()"
   ]
  },
  {
   "cell_type": "code",
   "execution_count": 74,
   "metadata": {
    "colab": {},
    "colab_type": "code",
    "hidden": true,
    "id": "Cu_c3nA9eaIF",
    "outputId": "0d1b4433-3e3b-454d-e022-e563166446b8"
   },
   "outputs": [
    {
     "name": "stdout",
     "output_type": "stream",
     "text": [
      "CPU times: user 2.26 s, sys: 268 ms, total: 2.52 s\n",
      "Wall time: 3.6 s\n"
     ]
    }
   ],
   "source": [
    "%%time\n",
    "data_clas = (TextList.from_df(df2_trn_val, path, vocab=data_lm.vocab, cols=reviews, \n",
    "                              processor=SPProcessor.load(dest))\n",
    "    .split_by_rand_pct(0.1, seed=42)\n",
    "    .label_from_df(cols=label)\n",
    "    .databunch(bs=bs, num_workers=1))"
   ]
  },
  {
   "cell_type": "code",
   "execution_count": 75,
   "metadata": {
    "colab": {},
    "colab_type": "code",
    "hidden": true,
    "id": "O1aSi6hreaIH",
    "outputId": "a413f34a-c8b6-479c-80a9-c9abe6de5215"
   },
   "outputs": [
    {
     "name": "stdout",
     "output_type": "stream",
     "text": [
      "CPU times: user 668 ms, sys: 36 ms, total: 704 ms\n",
      "Wall time: 702 ms\n"
     ]
    }
   ],
   "source": [
    "%%time\n",
    "data_clas.save(f'{lang}_textlist_class_sp15_multifit')"
   ]
  },
  {
   "cell_type": "markdown",
   "metadata": {
    "colab_type": "text",
    "heading_collapsed": true,
    "id": "77aO5YHJeaIQ"
   },
   "source": [
    "### Get weights to penalize loss function of the majority class"
   ]
  },
  {
   "cell_type": "code",
   "execution_count": 76,
   "metadata": {
    "colab": {},
    "colab_type": "code",
    "hidden": true,
    "id": "rTeM17D6eaIR",
    "outputId": "2bdfa13e-e101-435c-c86e-bf7d17946731"
   },
   "outputs": [],
   "source": [
    "#%%time\n",
    "#data_clas = load_data(path, f'{lang}_textlist_class_sp15_multifit', bs=bs, num_workers=1)"
   ]
  },
  {
   "cell_type": "code",
   "execution_count": 77,
   "metadata": {
    "colab": {},
    "colab_type": "code",
    "hidden": true,
    "id": "E6xX1XXeeaIU",
    "outputId": "1bb90d40-aa27-4adf-b1be-e66893a269ae"
   },
   "outputs": [
    {
     "data": {
      "text/plain": [
       "(33993, 3777, 37770)"
      ]
     },
     "execution_count": 77,
     "metadata": {},
     "output_type": "execute_result"
    }
   ],
   "source": [
    "num_trn = len(data_clas.train_ds.x)\n",
    "num_val = len(data_clas.valid_ds.x)\n",
    "num_trn, num_val, num_trn+num_val"
   ]
  },
  {
   "cell_type": "code",
   "execution_count": 78,
   "metadata": {
    "colab": {},
    "colab_type": "code",
    "hidden": true,
    "id": "kj0pwwI1eaIX",
    "outputId": "a46b8d02-2d86-4d41-b35b-e12fc1eeeeb1"
   },
   "outputs": [
    {
     "data": {
      "text/plain": [
       "(array([10126, 23867]), array([1144, 2633]))"
      ]
     },
     "execution_count": 78,
     "metadata": {},
     "output_type": "execute_result"
    }
   ],
   "source": [
    "trn_LabelCounts = np.unique(data_clas.train_ds.y.items, return_counts=True)[1]\n",
    "val_LabelCounts = np.unique(data_clas.valid_ds.y.items, return_counts=True)[1]\n",
    "trn_LabelCounts, val_LabelCounts"
   ]
  },
  {
   "cell_type": "code",
   "execution_count": 79,
   "metadata": {
    "colab": {},
    "colab_type": "code",
    "hidden": true,
    "id": "iN2kFEaSeaIc",
    "outputId": "f2d176e4-52c4-4b12-8754-20559fb38557"
   },
   "outputs": [
    {
     "data": {
      "text/plain": [
       "([0.7021151413526314, 0.2978848586473686],\n",
       " [0.6971141117288854, 0.3028858882711146])"
      ]
     },
     "execution_count": 79,
     "metadata": {},
     "output_type": "execute_result"
    }
   ],
   "source": [
    "trn_weights = [1 - count/num_trn for count in trn_LabelCounts]\n",
    "val_weights = [1 - count/num_val for count in val_LabelCounts]\n",
    "trn_weights, val_weights"
   ]
  },
  {
   "cell_type": "markdown",
   "metadata": {
    "colab_type": "text",
    "heading_collapsed": true,
    "id": "Mz5Iy_zxeaIf"
   },
   "source": [
    "### Training (Loss = FlattenedLoss of weighted CrossEntropyLoss)"
   ]
  },
  {
   "cell_type": "code",
   "execution_count": 80,
   "metadata": {
    "colab": {},
    "colab_type": "code",
    "hidden": true,
    "id": "QX0bFdnTeaIg",
    "outputId": "c6c82092-4107-4c59-f1fb-86b5001415b7"
   },
   "outputs": [
    {
     "name": "stdout",
     "output_type": "stream",
     "text": [
      "CPU times: user 996 ms, sys: 20 ms, total: 1.02 s\n",
      "Wall time: 1 s\n"
     ]
    }
   ],
   "source": [
    "%%time\n",
    "data_clas = load_data(path, f'{lang}_textlist_class_sp15_multifit', bs=bs, num_workers=1)"
   ]
  },
  {
   "cell_type": "code",
   "execution_count": 81,
   "metadata": {
    "colab": {},
    "colab_type": "code",
    "hidden": true,
    "id": "umwu8XGZeaIi"
   },
   "outputs": [],
   "source": [
    "config = awd_lstm_clas_config.copy()\n",
    "config['qrnn'] = True\n",
    "config['n_hid'] = 1550 #default 1152\n",
    "config['n_layers'] = 4 #default 3"
   ]
  },
  {
   "cell_type": "code",
   "execution_count": 82,
   "metadata": {
    "colab": {},
    "colab_type": "code",
    "hidden": true,
    "id": "TRdNRjOVeaIn"
   },
   "outputs": [],
   "source": [
    "learn_c = text_classifier_learner(data_clas, AWD_LSTM, config=config, pretrained = False,drop_mult=1.0, \n",
    "                                  metrics=[accuracy,f1]).to_fp16()\n"
   ]
  },
  {
   "cell_type": "code",
   "execution_count": 83,
   "metadata": {},
   "outputs": [],
   "source": [
    "learn_c.load_encoder(f'{lang}fine_tuned_enc_sp15_multifit');"
   ]
  },
  {
   "cell_type": "code",
   "execution_count": 84,
   "metadata": {},
   "outputs": [
    {
     "data": {
      "text/plain": [
       "SequentialRNN(\n",
       "  (0): MultiBatchEncoder(\n",
       "    (module): AWD_LSTM(\n",
       "      (encoder): Embedding(6328, 400, padding_idx=1)\n",
       "      (encoder_dp): EmbeddingDropout(\n",
       "        (emb): Embedding(6328, 400, padding_idx=1)\n",
       "      )\n",
       "      (rnns): ModuleList(\n",
       "        (0): QRNN(\n",
       "          (layers): ModuleList(\n",
       "            (0): QRNNLayer(\n",
       "              (linear): WeightDropout(\n",
       "                (module): Linear(in_features=800, out_features=4650, bias=True)\n",
       "              )\n",
       "            )\n",
       "          )\n",
       "        )\n",
       "        (1): QRNN(\n",
       "          (layers): ModuleList(\n",
       "            (0): QRNNLayer(\n",
       "              (linear): WeightDropout(\n",
       "                (module): Linear(in_features=1550, out_features=4650, bias=True)\n",
       "              )\n",
       "            )\n",
       "          )\n",
       "        )\n",
       "        (2): QRNN(\n",
       "          (layers): ModuleList(\n",
       "            (0): QRNNLayer(\n",
       "              (linear): WeightDropout(\n",
       "                (module): Linear(in_features=1550, out_features=4650, bias=True)\n",
       "              )\n",
       "            )\n",
       "          )\n",
       "        )\n",
       "        (3): QRNN(\n",
       "          (layers): ModuleList(\n",
       "            (0): QRNNLayer(\n",
       "              (linear): WeightDropout(\n",
       "                (module): Linear(in_features=1550, out_features=1200, bias=True)\n",
       "              )\n",
       "            )\n",
       "          )\n",
       "        )\n",
       "      )\n",
       "      (input_dp): RNNDropout()\n",
       "      (hidden_dps): ModuleList(\n",
       "        (0): RNNDropout()\n",
       "        (1): RNNDropout()\n",
       "        (2): RNNDropout()\n",
       "        (3): RNNDropout()\n",
       "      )\n",
       "    )\n",
       "  )\n",
       "  (1): PoolingLinearClassifier(\n",
       "    (layers): Sequential(\n",
       "      (0): BatchNorm1d(1200, eps=1e-05, momentum=0.1, affine=True, track_running_stats=True)\n",
       "      (1): Dropout(p=0.4, inplace=False)\n",
       "      (2): Linear(in_features=1200, out_features=50, bias=True)\n",
       "      (3): ReLU(inplace=True)\n",
       "      (4): BatchNorm1d(50, eps=1e-05, momentum=0.1, affine=True, track_running_stats=True)\n",
       "      (5): Dropout(p=0.1, inplace=False)\n",
       "      (6): Linear(in_features=50, out_features=2, bias=True)\n",
       "    )\n",
       "  )\n",
       ")"
      ]
     },
     "execution_count": 84,
     "metadata": {},
     "output_type": "execute_result"
    }
   ],
   "source": [
    "learn_c.model\n"
   ]
  },
  {
   "cell_type": "markdown",
   "metadata": {
    "colab_type": "text",
    "hidden": true,
    "id": "GzNwq4umeaIp"
   },
   "source": [
    "#### Change loss function"
   ]
  },
  {
   "cell_type": "code",
   "execution_count": 85,
   "metadata": {
    "colab": {},
    "colab_type": "code",
    "hidden": true,
    "id": "4ftV5FWpeaIq",
    "outputId": "8b628812-f006-4e5d-9279-247b082781de"
   },
   "outputs": [
    {
     "data": {
      "text/plain": [
       "FlattenedLoss of CrossEntropyLoss()"
      ]
     },
     "execution_count": 85,
     "metadata": {},
     "output_type": "execute_result"
    }
   ],
   "source": [
    "learn_c.loss_func"
   ]
  },
  {
   "cell_type": "code",
   "execution_count": 86,
   "metadata": {
    "colab": {},
    "colab_type": "code",
    "hidden": true,
    "id": "6SMK_WyfeaIu"
   },
   "outputs": [],
   "source": [
    "loss_weights = torch.FloatTensor(trn_weights).cuda()\n",
    "learn_c.loss_func = partial(F.cross_entropy, weight=loss_weights)"
   ]
  },
  {
   "cell_type": "code",
   "execution_count": 87,
   "metadata": {
    "colab": {},
    "colab_type": "code",
    "hidden": true,
    "id": "qX_bBA1ReaIy",
    "outputId": "02a74cd1-e74c-4ca8-c94b-d1268dc73220"
   },
   "outputs": [
    {
     "data": {
      "text/plain": [
       "functools.partial(<function cross_entropy at 0x7fc0dc6389e0>, weight=tensor([0.7021, 0.2979], device='cuda:0'))"
      ]
     },
     "execution_count": 87,
     "metadata": {},
     "output_type": "execute_result"
    }
   ],
   "source": [
    "learn_c.loss_func"
   ]
  },
  {
   "cell_type": "markdown",
   "metadata": {
    "colab_type": "text",
    "hidden": true,
    "id": "LrV5EuKxeaI1"
   },
   "source": [
    "#### Training"
   ]
  },
  {
   "cell_type": "code",
   "execution_count": 88,
   "metadata": {
    "colab": {},
    "colab_type": "code",
    "hidden": true,
    "id": "MwF3tFe4eaI1"
   },
   "outputs": [],
   "source": [
    "learn_c.freeze()"
   ]
  },
  {
   "cell_type": "code",
   "execution_count": 89,
   "metadata": {
    "colab": {},
    "colab_type": "code",
    "hidden": true,
    "id": "0NsdG-c6eaI3",
    "outputId": "21551d00-3708-41e0-fe73-0c8daf8d1f35"
   },
   "outputs": [
    {
     "data": {
      "text/html": [],
      "text/plain": [
       "<IPython.core.display.HTML object>"
      ]
     },
     "metadata": {},
     "output_type": "display_data"
    },
    {
     "name": "stdout",
     "output_type": "stream",
     "text": [
      "LR Finder is complete, type {learner_name}.recorder.plot() to see the graph.\n"
     ]
    }
   ],
   "source": [
    "learn_c.lr_find()"
   ]
  },
  {
   "cell_type": "code",
   "execution_count": 90,
   "metadata": {
    "colab": {},
    "colab_type": "code",
    "hidden": true,
    "id": "p63qxaX7eaI6",
    "outputId": "91065a54-4147-45cc-8980-bbc67e29cef1"
   },
   "outputs": [
    {
     "data": {
      "image/png": "[encoded data removed]",
      "text/plain": [
       "<Figure size 432x288 with 1 Axes>"
      ]
     },
     "metadata": {
      "needs_background": "light"
     },
     "output_type": "display_data"
    }
   ],
   "source": [
    "learn_c.recorder.plot()"
   ]
  },
  {
   "cell_type": "code",
   "execution_count": 91,
   "metadata": {
    "colab": {},
    "colab_type": "code",
    "hidden": true,
    "id": "-_VhsNVReaI8"
   },
   "outputs": [],
   "source": [
    "lr = 3e-3\n",
    "lr *= bs/48\n",
    "\n",
    "wd = 0.1"
   ]
  },
  {
   "cell_type": "code",
   "execution_count": 92,
   "metadata": {
    "colab": {},
    "colab_type": "code",
    "hidden": true,
    "id": "Cnx4he5seaI9",
    "outputId": "6721ec42-ce3c-402e-f783-eec56534c980",
    "scrolled": false
   },
   "outputs": [
    {
     "data": {
      "text/html": [
       "<table border=\"1\" class=\"dataframe\">\n",
       "  <thead>\n",
       "    <tr style=\"text-align: left;\">\n",
       "      <th>epoch</th>\n",
       "      <th>train_loss</th>\n",
       "      <th>valid_loss</th>\n",
       "      <th>accuracy</th>\n",
       "      <th>f1</th>\n",
       "      <th>time</th>\n",
       "    </tr>\n",
       "  </thead>\n",
       "  <tbody>\n",
       "    <tr>\n",
       "      <td>0</td>\n",
       "      <td>0.355933</td>\n",
       "      <td>0.221455</td>\n",
       "      <td>0.906804</td>\n",
       "      <td>0.887064</td>\n",
       "      <td>00:20</td>\n",
       "    </tr>\n",
       "    <tr>\n",
       "      <td>1</td>\n",
       "      <td>0.345825</td>\n",
       "      <td>0.232262</td>\n",
       "      <td>0.918454</td>\n",
       "      <td>0.910903</td>\n",
       "      <td>00:20</td>\n",
       "    </tr>\n",
       "  </tbody>\n",
       "</table>"
      ],
      "text/plain": [
       "<IPython.core.display.HTML object>"
      ]
     },
     "metadata": {},
     "output_type": "display_data"
    }
   ],
   "source": [
    "learn_c.fit_one_cycle(2, lr, wd=wd, moms=(0.8,0.7))"
   ]
  },
  {
   "cell_type": "code",
   "execution_count": 93,
   "metadata": {
    "colab": {},
    "colab_type": "code",
    "hidden": true,
    "id": "x8TXo2Q4eaI_"
   },
   "outputs": [],
   "source": [
    "learn_c.save(f'{lang}clas1_sp15_multifit')"
   ]
  },
  {
   "cell_type": "code",
   "execution_count": 94,
   "metadata": {
    "colab": {},
    "colab_type": "code",
    "hidden": true,
    "id": "F8xIEFPDeaJF",
    "outputId": "62bcf5d7-9876-474c-aa8f-d2a977127f79"
   },
   "outputs": [
    {
     "data": {
      "text/html": [
       "<table border=\"1\" class=\"dataframe\">\n",
       "  <thead>\n",
       "    <tr style=\"text-align: left;\">\n",
       "      <th>epoch</th>\n",
       "      <th>train_loss</th>\n",
       "      <th>valid_loss</th>\n",
       "      <th>accuracy</th>\n",
       "      <th>f1</th>\n",
       "      <th>time</th>\n",
       "    </tr>\n",
       "  </thead>\n",
       "  <tbody>\n",
       "    <tr>\n",
       "      <td>0</td>\n",
       "      <td>0.346408</td>\n",
       "      <td>0.241400</td>\n",
       "      <td>0.887212</td>\n",
       "      <td>0.842482</td>\n",
       "      <td>00:20</td>\n",
       "    </tr>\n",
       "    <tr>\n",
       "      <td>1</td>\n",
       "      <td>0.338357</td>\n",
       "      <td>0.223744</td>\n",
       "      <td>0.915541</td>\n",
       "      <td>0.902733</td>\n",
       "      <td>00:20</td>\n",
       "    </tr>\n",
       "  </tbody>\n",
       "</table>"
      ],
      "text/plain": [
       "<IPython.core.display.HTML object>"
      ]
     },
     "metadata": {},
     "output_type": "display_data"
    }
   ],
   "source": [
    "learn_c.load(f'{lang}clas1_sp15_multifit');\n",
    "learn_c.fit_one_cycle(2, lr, wd=wd, moms=(0.8,0.7))"
   ]
  },
  {
   "cell_type": "code",
   "execution_count": 95,
   "metadata": {
    "colab": {},
    "colab_type": "code",
    "hidden": true,
    "id": "Xp4sTSYAeaJL"
   },
   "outputs": [],
   "source": [
    "learn_c.save(f'{lang}clas2_sp15_multifit')"
   ]
  },
  {
   "cell_type": "code",
   "execution_count": 96,
   "metadata": {
    "colab": {},
    "colab_type": "code",
    "hidden": true,
    "id": "o6LlOw_oeaJN",
    "outputId": "48f81e97-d3b1-4afe-a57d-536d7da8b648"
   },
   "outputs": [
    {
     "data": {
      "text/html": [
       "<table border=\"1\" class=\"dataframe\">\n",
       "  <thead>\n",
       "    <tr style=\"text-align: left;\">\n",
       "      <th>epoch</th>\n",
       "      <th>train_loss</th>\n",
       "      <th>valid_loss</th>\n",
       "      <th>accuracy</th>\n",
       "      <th>f1</th>\n",
       "      <th>time</th>\n",
       "    </tr>\n",
       "  </thead>\n",
       "  <tbody>\n",
       "    <tr>\n",
       "      <td>0</td>\n",
       "      <td>0.347973</td>\n",
       "      <td>0.211975</td>\n",
       "      <td>0.910511</td>\n",
       "      <td>0.892303</td>\n",
       "      <td>00:24</td>\n",
       "    </tr>\n",
       "    <tr>\n",
       "      <td>1</td>\n",
       "      <td>0.370678</td>\n",
       "      <td>0.220552</td>\n",
       "      <td>0.929838</td>\n",
       "      <td>0.926402</td>\n",
       "      <td>00:24</td>\n",
       "    </tr>\n",
       "  </tbody>\n",
       "</table>"
      ],
      "text/plain": [
       "<IPython.core.display.HTML object>"
      ]
     },
     "metadata": {},
     "output_type": "display_data"
    }
   ],
   "source": [
    "learn_c.load(f'{lang}clas2_sp15_multifit');\n",
    "learn_c.freeze_to(-2)\n",
    "learn_c.fit_one_cycle(2, slice(lr/(2.6**4),lr), wd=wd, moms=(0.8,0.7))"
   ]
  },
  {
   "cell_type": "code",
   "execution_count": 97,
   "metadata": {
    "colab": {},
    "colab_type": "code",
    "hidden": true,
    "id": "cAUr508YeaJQ"
   },
   "outputs": [],
   "source": [
    "learn_c.save(f'{lang}clas3_sp15_multifit')"
   ]
  },
  {
   "cell_type": "code",
   "execution_count": 98,
   "metadata": {
    "colab": {},
    "colab_type": "code",
    "hidden": true,
    "id": "TqkXMpgmeaJT",
    "outputId": "3deff0a5-b2c6-4811-ff4f-dacc8ea855d8"
   },
   "outputs": [
    {
     "data": {
      "text/html": [
       "<table border=\"1\" class=\"dataframe\">\n",
       "  <thead>\n",
       "    <tr style=\"text-align: left;\">\n",
       "      <th>epoch</th>\n",
       "      <th>train_loss</th>\n",
       "      <th>valid_loss</th>\n",
       "      <th>accuracy</th>\n",
       "      <th>f1</th>\n",
       "      <th>time</th>\n",
       "    </tr>\n",
       "  </thead>\n",
       "  <tbody>\n",
       "    <tr>\n",
       "      <td>0</td>\n",
       "      <td>0.297581</td>\n",
       "      <td>0.205480</td>\n",
       "      <td>0.916336</td>\n",
       "      <td>0.904016</td>\n",
       "      <td>00:28</td>\n",
       "    </tr>\n",
       "    <tr>\n",
       "      <td>1</td>\n",
       "      <td>0.297761</td>\n",
       "      <td>0.204095</td>\n",
       "      <td>0.911570</td>\n",
       "      <td>0.894392</td>\n",
       "      <td>00:28</td>\n",
       "    </tr>\n",
       "  </tbody>\n",
       "</table>"
      ],
      "text/plain": [
       "<IPython.core.display.HTML object>"
      ]
     },
     "metadata": {},
     "output_type": "display_data"
    }
   ],
   "source": [
    "learn_c.load(f'{lang}clas3_sp15_multifit');\n",
    "learn_c.freeze_to(-3)\n",
    "learn_c.fit_one_cycle(2, slice(lr/2/(2.6**4),lr/2), wd=wd, moms=(0.8,0.7))"
   ]
  },
  {
   "cell_type": "code",
   "execution_count": 99,
   "metadata": {
    "colab": {},
    "colab_type": "code",
    "hidden": true,
    "id": "84kr46Z4eaJY"
   },
   "outputs": [],
   "source": [
    "learn_c.save(f'{lang}clas4_sp15_multifit')"
   ]
  },
  {
   "cell_type": "code",
   "execution_count": 100,
   "metadata": {
    "colab": {},
    "colab_type": "code",
    "hidden": true,
    "id": "5ASjoK-seaJc",
    "outputId": "d5a93599-55f0-4c61-c69d-6d6f5f185f0e"
   },
   "outputs": [
    {
     "data": {
      "text/html": [
       "<table border=\"1\" class=\"dataframe\">\n",
       "  <thead>\n",
       "    <tr style=\"text-align: left;\">\n",
       "      <th>epoch</th>\n",
       "      <th>train_loss</th>\n",
       "      <th>valid_loss</th>\n",
       "      <th>accuracy</th>\n",
       "      <th>f1</th>\n",
       "      <th>time</th>\n",
       "    </tr>\n",
       "  </thead>\n",
       "  <tbody>\n",
       "    <tr>\n",
       "      <td>0</td>\n",
       "      <td>0.313511</td>\n",
       "      <td>0.200985</td>\n",
       "      <td>0.915541</td>\n",
       "      <td>0.899841</td>\n",
       "      <td>00:44</td>\n",
       "    </tr>\n",
       "  </tbody>\n",
       "</table>"
      ],
      "text/plain": [
       "<IPython.core.display.HTML object>"
      ]
     },
     "metadata": {},
     "output_type": "display_data"
    }
   ],
   "source": [
    "learn_c.load(f'{lang}clas4_sp15_multifit');\n",
    "learn_c.unfreeze()\n",
    "learn_c.fit_one_cycle(1, slice(lr/10/(2.6**4),lr/10), wd=wd, moms=(0.8,0.7))"
   ]
  },
  {
   "cell_type": "code",
   "execution_count": 101,
   "metadata": {
    "colab": {},
    "colab_type": "code",
    "hidden": true,
    "id": "SdUUuH5QeaJg"
   },
   "outputs": [],
   "source": [
    "learn_c.save(f'{lang}clas5_sp15_multifit')"
   ]
  },
  {
   "cell_type": "code",
   "execution_count": 102,
   "metadata": {
    "colab": {},
    "colab_type": "code",
    "hidden": true,
    "id": "ld4X1goZeaJl"
   },
   "outputs": [],
   "source": [
    "learn_c.load(f'{lang}clas5_sp15_multifit')\n",
    "learn_c.save(f'{lang}clas_sp15_multifit')"
   ]
  },
  {
   "cell_type": "code",
   "execution_count": 103,
   "metadata": {
    "colab": {},
    "colab_type": "code",
    "hidden": true,
    "id": "WrtR0ACueaJs"
   },
   "outputs": [],
   "source": [
    "#### LOADING PRE TRAINED FORWARD CLASSIFICATION MODEL\n",
    "\n",
    "# RUN FIRST Get weights to penalize loss function of the majority class\n",
    "\n",
    "data_clas = load_data(path, f'{lang}_textlist_class_sp15_multifit', bs=bs, num_workers=1)\n",
    "\n",
    "config = awd_lstm_clas_config.copy()\n",
    "config['qrnn'] = True\n",
    "config['n_hid'] = 1550 #default 1152\n",
    "config['n_layers'] = 4 #default 3\n",
    "\n",
    "learn_c = text_classifier_learner(data_clas, AWD_LSTM, config=config, pretrained=False, drop_mult=1.0, \n",
    "                                  metrics=[accuracy,f1]).to_fp16()\n",
    "\n",
    "\n",
    "\n",
    "learn_c.load_encoder(f'{lang}fine_tuned_enc_sp15_multifit');\n",
    "\n",
    "learn_c.load(f'{lang}clas_sp15_multifit');\n",
    "learn_c.to_fp32().export(f'{lang}_classifier_sp15_multifit')"
   ]
  },
  {
   "cell_type": "markdown",
   "metadata": {
    "colab_type": "text",
    "id": "t9XdUTX5eaJv"
   },
   "source": [
    "### Confusion matrix"
   ]
  },
  {
   "cell_type": "code",
   "execution_count": 104,
   "metadata": {
    "colab": {},
    "colab_type": "code",
    "id": "RMch8tkfeaJw",
    "outputId": "c1a73169-51a2-4b15-e036-a4f42ab3f124"
   },
   "outputs": [
    {
     "name": "stdout",
     "output_type": "stream",
     "text": [
      "CPU times: user 1.42 s, sys: 104 ms, total: 1.52 s\n",
      "Wall time: 1.5 s\n"
     ]
    }
   ],
   "source": [
    "%%time\n",
    "data_clas = load_data(path, f'{lang}_textlist_class_sp15_multifit', bs=bs, num_workers=1)\n",
    "\n",
    "config = awd_lstm_clas_config.copy()\n",
    "config['qrnn'] = True\n",
    "config['n_hid'] = 1550 #default 1152\n",
    "config['n_layers'] = 4 #default 3\n",
    "\n",
    "learn_c = text_classifier_learner(data_clas, AWD_LSTM, config=config, pretrained=False, drop_mult=1.0, \n",
    "                                  metrics=[accuracy,f1])\n",
    "learn_c.load_encoder(f'{lang}fine_tuned_enc_sp15_multifit');\n",
    "\n",
    "learn_c.load(f'{lang}clas_sp15_multifit');\n",
    "\n",
    "# put weight on cpu\n",
    "loss_weights = torch.FloatTensor(trn_weights).cpu()\n",
    "learn_c.loss_func = partial(F.cross_entropy, weight=loss_weights)"
   ]
  },
  {
   "cell_type": "code",
   "execution_count": 105,
   "metadata": {
    "colab": {},
    "colab_type": "code",
    "id": "RxIt4nj5eaJx",
    "outputId": "87a89e39-40e4-41de-90cf-bc53d5ba4db2"
   },
   "outputs": [
    {
     "data": {
      "image/png": "[encoded data removed]",
      "text/plain": [
       "<Figure size 432x288 with 1 Axes>"
      ]
     },
     "metadata": {
      "needs_background": "light"
     },
     "output_type": "display_data"
    }
   ],
   "source": [
    "preds,y,losses = learn_c.get_preds(with_loss=True)\n",
    "predictions = np.argmax(preds, axis = 1)\n",
    "\n",
    "interp = ClassificationInterpretation(learn_c, preds, y, losses)\n",
    "interp.plot_confusion_matrix()"
   ]
  },
  {
   "cell_type": "code",
   "execution_count": 106,
   "metadata": {
    "colab": {},
    "colab_type": "code",
    "id": "trL4tS1_eaJ1",
    "outputId": "c52d6507-96f3-4a82-e31a-70d2d4cff6bd"
   },
   "outputs": [
    {
     "name": "stdout",
     "output_type": "stream",
     "text": [
      "[[1093   51]\n",
      " [ 268 2365]]\n",
      "accuracy global: 0.9155414350013238\n",
      "accuracy on negative reviews: 95.54195804195804\n",
      "accuracy on positive reviews: 89.82149639194836\n"
     ]
    }
   ],
   "source": [
    "from sklearn.metrics import confusion_matrix\n",
    "cm = confusion_matrix(np.array(y), np.array(predictions))\n",
    "print(cm)\n",
    "\n",
    "## acc\n",
    "print(f'accuracy global: {(cm[0,0]+cm[1,1])/(cm[0,0]+cm[0,1]+cm[1,0]+cm[1,1])}')\n",
    "\n",
    "# acc neg, acc pos\n",
    "print(f'accuracy on negative reviews: {cm[0,0]/(cm[0,0]+cm[0,1])*100}') \n",
    "print(f'accuracy on positive reviews: {cm[1,1]/(cm[1,0]+cm[1,1])*100}')"
   ]
  },
  {
   "cell_type": "code",
   "execution_count": 107,
   "metadata": {
    "colab": {},
    "colab_type": "code",
    "id": "0GSjVzVEeaJ4",
    "outputId": "95ce83dd-de92-428b-9c24-1909667d68fb"
   },
   "outputs": [
    {
     "data": {
      "text/html": [
       "<table border=\"1\" class=\"dataframe\">\n",
       "  <thead>\n",
       "    <tr style=\"text-align: right;\">\n",
       "      <th>text</th>\n",
       "      <th>target</th>\n",
       "      <th>prediction</th>\n",
       "    </tr>\n",
       "  </thead>\n",
       "  <tbody>\n",
       "    <tr>\n",
       "      <td>▁xxbos ▁o ▁xxmaj ▁produto ▁xxmaj ▁relógio ▁xxmaj ▁invi cta ▁xxmaj ▁pro ▁xxmaj ▁di ver ▁ - ▁2 19 5 4 , ▁xxup ▁veio ▁xxup ▁trocado ▁xxup ▁pelo ▁xxup ▁invi cta ▁xxup ▁pro ▁xxup ▁di ver ▁2 400 1 , ▁xxup ▁tudo ▁xxup ▁bem ▁xxup ▁produto ▁xxup ▁similar , ▁xxup ▁mas ▁o ▁xxup ▁produto ▁xxmaj ▁relógio ▁xxmaj ▁invi cta ▁xxmaj ▁ s pe ci al t y ▁xxup ▁2 14 39</td>\n",
       "      <td>neg</td>\n",
       "      <td>neg</td>\n",
       "    </tr>\n",
       "    <tr>\n",
       "      <td>▁xxbos ▁xxmaj ▁pedido : ▁02-66 2 11 99 05 ▁xxmaj ▁alça ▁xxmaj ▁dupla ▁xxmaj ▁x - do u b le ▁xxmaj ▁couro ▁xxmaj ▁ le gi timo ▁xxmaj ▁camera s ▁xxmaj ▁d s l r ▁xxmaj ▁do u b le ▁xxmaj ▁ s t ra p ▁xxup ▁informo ▁xxup ▁que ▁o ▁xxup ▁produto ▁xxup ▁não ▁xxup ▁foi ▁xxup ▁entregue , ▁xxup ▁porém ▁xxup ▁no ▁xxup ▁site ▁xxup ▁está ▁xxup ▁sendo</td>\n",
       "      <td>neg</td>\n",
       "      <td>neg</td>\n",
       "    </tr>\n",
       "    <tr>\n",
       "      <td>▁xxbos ▁xxup ▁ola ! ▁xxup ▁bom ▁xxup ▁dia ▁ . ▁o ▁xxup ▁produto ▁xxup ▁foi ▁xxup ▁cobrado ▁xxup ▁um ▁xxup ▁alto ▁xxup ▁frete ▁e ▁xxup ▁não ▁xxup ▁foi ▁xxup ▁entregue ▁xxup ▁no ▁xxup ▁meu ▁xxup ▁endereço , tive ▁xxup ▁que ▁xxup ▁retirar ▁xxup ▁na ▁xxup ▁agência ▁xxup ▁do ▁xxup ▁correios ▁xxup ▁ , pois ▁xxup ▁vcs ▁xxup ▁deveria ▁xxup ▁devolver ▁o ▁xxup ▁valor ▁xxup ▁do ▁xxup ▁frete ▁xxup ▁ ,</td>\n",
       "      <td>pos</td>\n",
       "      <td>neg</td>\n",
       "    </tr>\n",
       "    <tr>\n",
       "      <td>▁xxbos ▁xxup ▁desde ▁o ▁xxup ▁dia ▁23 - 04 - 18 ▁xxup ▁era ▁xxup ▁pra ▁xxup ▁ser ▁xxup ▁entregue ▁xxup ▁eles ▁xxup ▁nao ▁xxup ▁com pr ira o ▁a ▁xxup ▁entraga r ▁xxup ▁do ▁xxup ▁produto ▁xxup ▁to ▁xxup ▁mt ▁xxup ▁triste ▁xxup ▁com ▁xxup ▁essa ▁xxup ▁empresa ▁25 - 04 - 18 ▁xxup ▁as ▁17 , 20 ▁xxup ▁nao ▁xxup ▁chegou ▁xxup ▁aguardo ▁xxup ▁contato ▁xxup ▁te l ▁</td>\n",
       "      <td>neg</td>\n",
       "      <td>neg</td>\n",
       "    </tr>\n",
       "    <tr>\n",
       "      <td>▁xxbos ▁xxup ▁foi ▁xxup ▁feito ▁o ▁xxup ▁pedido ▁xxup ▁de ▁2 ▁xxup ▁( u nd ) ▁xxup ▁do ▁xxup ▁produto , ▁xxup ▁chegou ▁xxup ▁apenas ▁xxup ▁1 ( u nd ), ▁e ▁xxup ▁mesmo ▁xxup ▁assim ▁xxup ▁fora ▁xxup ▁do ▁xxup ▁prazo ▁xxup ▁de ▁xxup ▁entrega , ▁xxup ▁já ▁xxup ▁enviei ▁xxup ▁vários ▁xxup ▁emails ▁xxup ▁para ▁xxup ▁resolve ▁o ▁xxup ▁problema ▁e ▁xxup ▁ate ▁xxup ▁agora ▁xxup ▁não ▁xxup</td>\n",
       "      <td>neg</td>\n",
       "      <td>neg</td>\n",
       "    </tr>\n",
       "  </tbody>\n",
       "</table>"
      ],
      "text/plain": [
       "<IPython.core.display.HTML object>"
      ]
     },
     "metadata": {},
     "output_type": "display_data"
    }
   ],
   "source": [
    "learn_c.show_results()"
   ]
  },
  {
   "cell_type": "markdown",
   "metadata": {
    "colab_type": "text",
    "id": "eggdqeYdeaJ6"
   },
   "source": [
    "### Predictions some random sentences"
   ]
  },
  {
   "cell_type": "code",
   "execution_count": 108,
   "metadata": {
    "colab": {},
    "colab_type": "code",
    "id": "8hbXhUE2eaJ6"
   },
   "outputs": [],
   "source": [
    "import matplotlib.cm as cm"
   ]
  },
  {
   "cell_type": "code",
   "execution_count": 109,
   "metadata": {
    "colab": {},
    "colab_type": "code",
    "id": "gbvqRO53eaJ7",
    "outputId": "2838b680-2766-42f2-c55f-1c10d9bad885"
   },
   "outputs": [
    {
     "name": "stdout",
     "output_type": "stream",
     "text": [
      "neg tensor([0.8884, 0.1116])\n"
     ]
    }
   ],
   "source": [
    "# Get the prediction neg/pos\n",
    "review = 'Eu não gosto deste produto'\n",
    "pred = learn_c.predict(review)\n",
    "print(pred[0], pred[2])"
   ]
  },
  {
   "cell_type": "code",
   "execution_count": 110,
   "metadata": {
    "colab": {},
    "colab_type": "code",
    "id": "MJZNhkUCeaJ9",
    "outputId": "e6f4535f-c023-49d3-f130-7909711a47d5"
   },
   "outputs": [
    {
     "data": {
      "text/html": [
       "<span style=\"font-family: monospace;\"><span title=\"0.152\" style=\"background-color: rgba(234, 233, 243, 0.5);\">▁xxbos</span> <span title=\"0.139\" style=\"background-color: rgba(236, 235, 244, 0.5);\">▁xxmaj</span> <span title=\"0.331\" style=\"background-color: rgba(198, 199, 225, 0.5);\">▁eu</span> <span title=\"0.545\" style=\"background-color: rgba(147, 143, 194, 0.5);\">▁não</span> <span title=\"0.918\" style=\"background-color: rgba(76, 24, 136, 0.5);\">▁gosto</span> <span title=\"1.000\" style=\"background-color: rgba(63, 0, 125, 0.5);\">▁deste</span> <span title=\"0.358\" style=\"background-color: rgba(192, 193, 222, 0.5);\">▁produto</span></span>"
      ],
      "text/plain": [
       "<IPython.core.display.HTML object>"
      ]
     },
     "metadata": {},
     "output_type": "display_data"
    }
   ],
   "source": [
    "# The darker the word-shading in the below example, the more it contributes to the classification. \n",
    "txt_ci = TextClassificationInterpretation.from_learner(learn_c)\n",
    "test_text = \"Eu não gosto deste produto\"\n",
    "txt_ci.show_intrinsic_attention(test_text,cmap=cm.Purples)"
   ]
  },
  {
   "cell_type": "code",
   "execution_count": 111,
   "metadata": {
    "colab": {},
    "colab_type": "code",
    "id": "QMzMxhCIeaJ_",
    "outputId": "57ce127c-9ef0-4455-9d9f-31d647fe021d"
   },
   "outputs": [
    {
     "data": {
      "text/plain": [
       "tensor([0.1521, 0.1389, 0.3309, 0.5452, 0.9181, 1.0000, 0.3585],\n",
       "       device='cuda:0')"
      ]
     },
     "execution_count": 111,
     "metadata": {},
     "output_type": "execute_result"
    }
   ],
   "source": [
    "txt_ci.intrinsic_attention(test_text)[1]"
   ]
  },
  {
   "cell_type": "code",
   "execution_count": 112,
   "metadata": {
    "colab": {},
    "colab_type": "code",
    "id": "OdvFNjf9eaKA",
    "outputId": "f38ab6d0-74e2-43fc-f32b-704303be6e62"
   },
   "outputs": [
    {
     "data": {
      "text/html": [
       "<table border=\"1\" class=\"dataframe\">\n",
       "  <thead>\n",
       "    <tr style=\"text-align: right;\">\n",
       "      <th>Text</th>\n",
       "      <th>Prediction</th>\n",
       "      <th>Actual</th>\n",
       "      <th>Loss</th>\n",
       "      <th>Probability</th>\n",
       "    </tr>\n",
       "  </thead>\n",
       "  <tbody>\n",
       "    <tr>\n",
       "      <td>▁xxbos ▁xxmaj ▁entrega ▁super ▁rápida ... ▁xxmaj ▁produto ▁com ▁ótima ▁qualidade ... ▁xxmaj ▁super ▁recomendo ...</td>\n",
       "      <td>pos</td>\n",
       "      <td>neg</td>\n",
       "      <td>5.41</td>\n",
       "      <td>0.00</td>\n",
       "    </tr>\n",
       "    <tr>\n",
       "      <td>▁xxbos ▁xxmaj ▁ótimo ▁site ▁para ▁comprar ▁muito ▁confiável</td>\n",
       "      <td>pos</td>\n",
       "      <td>neg</td>\n",
       "      <td>4.52</td>\n",
       "      <td>0.00</td>\n",
       "    </tr>\n",
       "    <tr>\n",
       "      <td>▁xxbos ▁muito ▁bom ▁gostei ▁do ▁atendimento ▁veio ▁bem ▁antes ▁do ▁prazo</td>\n",
       "      <td>pos</td>\n",
       "      <td>neg</td>\n",
       "      <td>4.46</td>\n",
       "      <td>0.00</td>\n",
       "    </tr>\n",
       "    <tr>\n",
       "      <td>▁xxbos ▁xxmaj ▁ótima ▁ lo i ja ▁produto ▁entregue ▁dentro ▁do ▁prazo , produto ▁muito ▁bom</td>\n",
       "      <td>pos</td>\n",
       "      <td>neg</td>\n",
       "      <td>4.09</td>\n",
       "      <td>0.00</td>\n",
       "    </tr>\n",
       "    <tr>\n",
       "      <td>▁xxbos ▁xxmaj ▁muito ▁legal ▁em</td>\n",
       "      <td>pos</td>\n",
       "      <td>neg</td>\n",
       "      <td>3.98</td>\n",
       "      <td>0.00</td>\n",
       "    </tr>\n",
       "  </tbody>\n",
       "</table>"
      ],
      "text/plain": [
       "<IPython.core.display.HTML object>"
      ]
     },
     "metadata": {},
     "output_type": "display_data"
    }
   ],
   "source": [
    "# tabulation showing the first k texts in top_losses along with their prediction, actual,loss, and probability of actual class.\n",
    "# max_len is the maximum number of tokens displayed. If max_len=None, it will display all tokens.\n",
    "txt_ci.show_top_losses(5)"
   ]
  },
  {
   "cell_type": "markdown",
   "metadata": {
    "colab_type": "text",
    "heading_collapsed": true,
    "id": "B1_CQAHVeaKC"
   },
   "source": [
    "## Fine-tuning \"backward Classifier\""
   ]
  },
  {
   "cell_type": "code",
   "execution_count": 113,
   "metadata": {
    "colab": {},
    "colab_type": "code",
    "hidden": true,
    "id": "hfnG2iaqeaKC"
   },
   "outputs": [],
   "source": [
    "import warnings\n",
    "warnings.filterwarnings('ignore')  # \"error\", \"ignore\", \"always\", \"default\", \"module\" or \"on"
   ]
  },
  {
   "cell_type": "code",
   "execution_count": 114,
   "metadata": {
    "colab": {},
    "colab_type": "code",
    "hidden": true,
    "id": "jj4PqVU1eaKE"
   },
   "outputs": [],
   "source": [
    "bs = 18"
   ]
  },
  {
   "cell_type": "markdown",
   "metadata": {
    "colab_type": "text",
    "hidden": true,
    "id": "ehIGx3QjeaKI"
   },
   "source": [
    "### Databunch"
   ]
  },
  {
   "cell_type": "code",
   "execution_count": 115,
   "metadata": {
    "colab": {},
    "colab_type": "code",
    "hidden": true,
    "id": "6gty6NhBeaKJ",
    "outputId": "d1cce54f-b0a8-4316-eb6f-6ccdf2ffe8c7"
   },
   "outputs": [
    {
     "name": "stdout",
     "output_type": "stream",
     "text": [
      "CPU times: user 412 ms, sys: 8 ms, total: 420 ms\n",
      "Wall time: 290 ms\n"
     ]
    }
   ],
   "source": [
    "%%time\n",
    "data_lm = load_data(path, f'{lang}_databunch_lm_aws_sp15_multifit_bwd', bs=bs, backwards=True)"
   ]
  },
  {
   "cell_type": "code",
   "execution_count": 116,
   "metadata": {
    "colab": {},
    "colab_type": "code",
    "hidden": true,
    "id": "c6RVtCjReaKM"
   },
   "outputs": [],
   "source": [
    "# # keep reviews with a label not nan\n",
    "#df2_trn_val = df2_trn_val[df2_trn_val[label].notnull()].copy()\n",
    "#print(len(df2_trn_val))\n",
    "#df2_trn_val.head()"
   ]
  },
  {
   "cell_type": "code",
   "execution_count": 117,
   "metadata": {
    "colab": {},
    "colab_type": "code",
    "hidden": true,
    "id": "26GFOk0IeaKO",
    "outputId": "b40b3d7c-cbda-492f-c7c6-32e4f03c948d"
   },
   "outputs": [
    {
     "name": "stdout",
     "output_type": "stream",
     "text": [
      "CPU times: user 4.83 s, sys: 712 ms, total: 5.54 s\n",
      "Wall time: 7.87 s\n"
     ]
    }
   ],
   "source": [
    "%%time\n",
    "data_clas = (TextList.from_df(df2_trn_val, path, vocab=data_lm.vocab, cols=reviews, \n",
    "                              processor=SPProcessor.load(dest))\n",
    "    .split_by_rand_pct(0.1, seed=42)\n",
    "    .label_from_df(cols=label)\n",
    "    .databunch(bs=bs, num_workers=1, backwards=True))\n",
    "\n",
    "data_clas = (TextList.from_df(df_trn_val, path, cols=reviews, processor=SPProcessor.load(dest), vocab=data_lm.vocab)\n",
    "    .split_by_rand_pct(0.1, seed=42)\n",
    "    .label_from_df(cols=label)\n",
    "    .databunch(bs=bs, num_workers=1, backwards=True))"
   ]
  },
  {
   "cell_type": "code",
   "execution_count": 118,
   "metadata": {
    "colab": {},
    "colab_type": "code",
    "hidden": true,
    "id": "O48Hf0xheaKV",
    "outputId": "75915862-80ea-46ca-90c2-e93babd0e476"
   },
   "outputs": [
    {
     "name": "stdout",
     "output_type": "stream",
     "text": [
      "CPU times: user 824 ms, sys: 36 ms, total: 860 ms\n",
      "Wall time: 717 ms\n"
     ]
    }
   ],
   "source": [
    "%%time\n",
    "data_clas.save(f'{lang}_textlist_class_sp15_multifit_bwd')"
   ]
  },
  {
   "cell_type": "markdown",
   "metadata": {
    "colab_type": "text",
    "hidden": true,
    "id": "NbZ_MeOleaKX"
   },
   "source": [
    "### Get weights to penalize loss function of the majority class"
   ]
  },
  {
   "cell_type": "code",
   "execution_count": 119,
   "metadata": {
    "colab": {},
    "colab_type": "code",
    "hidden": true,
    "id": "wd3_ESMKeaKX",
    "outputId": "39f65b58-7deb-4039-d409-5834c100ad1e"
   },
   "outputs": [
    {
     "name": "stdout",
     "output_type": "stream",
     "text": [
      "CPU times: user 0 ns, sys: 0 ns, total: 0 ns\n",
      "Wall time: 6.44 µs\n"
     ]
    }
   ],
   "source": [
    "%%time\n",
    "#data_clas = load_data(path, f'{lang}_textlist_class_sp15_multifit_bwd', bs=bs, num_workers=1, backwards=True)"
   ]
  },
  {
   "cell_type": "code",
   "execution_count": 120,
   "metadata": {
    "colab": {},
    "colab_type": "code",
    "hidden": true,
    "id": "98UNc8ofeaKa",
    "outputId": "1ed7c765-952a-4644-c768-d0e78df3360e"
   },
   "outputs": [
    {
     "data": {
      "text/plain": [
       "(33993, 3777, 37770)"
      ]
     },
     "execution_count": 120,
     "metadata": {},
     "output_type": "execute_result"
    }
   ],
   "source": [
    "num_trn = len(data_clas.train_ds.x)\n",
    "num_val = len(data_clas.valid_ds.x)\n",
    "num_trn, num_val, num_trn+num_val"
   ]
  },
  {
   "cell_type": "code",
   "execution_count": 121,
   "metadata": {
    "colab": {},
    "colab_type": "code",
    "hidden": true,
    "id": "zMmpeDHYeaKb",
    "outputId": "12cf2bf6-3518-4741-f183-487667e81d88"
   },
   "outputs": [
    {
     "data": {
      "text/plain": [
       "(array([10126, 23867]), array([1144, 2633]))"
      ]
     },
     "execution_count": 121,
     "metadata": {},
     "output_type": "execute_result"
    }
   ],
   "source": [
    "trn_LabelCounts = np.unique(data_clas.train_ds.y.items, return_counts=True)[1]\n",
    "val_LabelCounts = np.unique(data_clas.valid_ds.y.items, return_counts=True)[1]\n",
    "trn_LabelCounts, val_LabelCounts"
   ]
  },
  {
   "cell_type": "code",
   "execution_count": 122,
   "metadata": {
    "colab": {},
    "colab_type": "code",
    "hidden": true,
    "id": "19y5NZgUeaKd",
    "outputId": "bd04dd2b-72c3-46a0-ac21-f2173ba565b1"
   },
   "outputs": [
    {
     "data": {
      "text/plain": [
       "([0.7021151413526314, 0.2978848586473686],\n",
       " [0.6971141117288854, 0.3028858882711146])"
      ]
     },
     "execution_count": 122,
     "metadata": {},
     "output_type": "execute_result"
    }
   ],
   "source": [
    "trn_weights = [1 - count/num_trn for count in trn_LabelCounts]\n",
    "val_weights = [1 - count/num_val for count in val_LabelCounts]\n",
    "trn_weights, val_weights"
   ]
  },
  {
   "cell_type": "markdown",
   "metadata": {
    "colab_type": "text",
    "hidden": true,
    "id": "X_gh1LB4eaKi"
   },
   "source": [
    "### Training (Loss = FlattenedLoss of weighted CrossEntropyLoss)"
   ]
  },
  {
   "cell_type": "code",
   "execution_count": 123,
   "metadata": {
    "colab": {},
    "colab_type": "code",
    "hidden": true,
    "id": "dKp5Eg8CeaKi",
    "outputId": "1068b0b8-13b2-455e-835a-8ff91ae1c469"
   },
   "outputs": [
    {
     "name": "stdout",
     "output_type": "stream",
     "text": [
      "CPU times: user 0 ns, sys: 0 ns, total: 0 ns\n",
      "Wall time: 6.2 µs\n"
     ]
    }
   ],
   "source": [
    "%%time\n",
    "#data_clas = load_data(path, f'{lang}_textlist_class_sp15_multifit_bwd', bs=bs, num_workers=1, backwards=True)"
   ]
  },
  {
   "cell_type": "code",
   "execution_count": 124,
   "metadata": {
    "colab": {},
    "colab_type": "code",
    "hidden": true,
    "id": "F_wksfoDeaKn"
   },
   "outputs": [],
   "source": [
    "config = awd_lstm_clas_config.copy()\n",
    "config['qrnn'] = True\n",
    "config['n_hid'] = 1550 #default 1152\n",
    "config['n_layers'] = 4 #default 3"
   ]
  },
  {
   "cell_type": "code",
   "execution_count": 125,
   "metadata": {
    "colab": {},
    "colab_type": "code",
    "hidden": true,
    "id": "rJZHzCsneaKs"
   },
   "outputs": [],
   "source": [
    "learn_c = text_classifier_learner(data_clas, AWD_LSTM, config=config, drop_mult=1.0, metrics=[accuracy,f1]).to_fp16()\n",
    "learn_c.load_encoder(f'{lang}fine_tuned_enc_sp15_multifit_bwd');"
   ]
  },
  {
   "cell_type": "markdown",
   "metadata": {
    "colab_type": "text",
    "hidden": true,
    "id": "nZpfYQG7eaKw"
   },
   "source": [
    "#### Change loss function"
   ]
  },
  {
   "cell_type": "code",
   "execution_count": 126,
   "metadata": {
    "colab": {},
    "colab_type": "code",
    "hidden": true,
    "id": "tMdrCYpgeaKx",
    "outputId": "e55230ac-edb5-49db-ad53-354cad3ae4e4"
   },
   "outputs": [
    {
     "data": {
      "text/plain": [
       "FlattenedLoss of CrossEntropyLoss()"
      ]
     },
     "execution_count": 126,
     "metadata": {},
     "output_type": "execute_result"
    }
   ],
   "source": [
    "learn_c.loss_func"
   ]
  },
  {
   "cell_type": "code",
   "execution_count": 127,
   "metadata": {
    "colab": {},
    "colab_type": "code",
    "hidden": true,
    "id": "YCc3WdeyeaKz"
   },
   "outputs": [],
   "source": [
    "loss_weights = torch.FloatTensor(trn_weights).cuda()\n",
    "learn_c.loss_func = partial(F.cross_entropy, weight=loss_weights)"
   ]
  },
  {
   "cell_type": "code",
   "execution_count": 128,
   "metadata": {
    "colab": {},
    "colab_type": "code",
    "hidden": true,
    "id": "IOwo1swreaK0",
    "outputId": "3cd4d037-db9f-4196-b94c-5e99260f858d"
   },
   "outputs": [
    {
     "data": {
      "text/plain": [
       "functools.partial(<function cross_entropy at 0x7fc0dc6389e0>, weight=tensor([0.7021, 0.2979], device='cuda:0'))"
      ]
     },
     "execution_count": 128,
     "metadata": {},
     "output_type": "execute_result"
    }
   ],
   "source": [
    "learn_c.loss_func"
   ]
  },
  {
   "cell_type": "markdown",
   "metadata": {
    "colab_type": "text",
    "hidden": true,
    "id": "anPse4c1eaK1"
   },
   "source": [
    "#### Training"
   ]
  },
  {
   "cell_type": "code",
   "execution_count": 129,
   "metadata": {
    "colab": {},
    "colab_type": "code",
    "hidden": true,
    "id": "jaNB6wEleaK2"
   },
   "outputs": [],
   "source": [
    "learn_c.freeze()"
   ]
  },
  {
   "cell_type": "code",
   "execution_count": 130,
   "metadata": {
    "colab": {},
    "colab_type": "code",
    "hidden": true,
    "id": "wl4RbH-IeaK3",
    "outputId": "4a3bcc8b-2d50-4514-ac1a-28679651342b"
   },
   "outputs": [
    {
     "data": {
      "text/html": [],
      "text/plain": [
       "<IPython.core.display.HTML object>"
      ]
     },
     "metadata": {},
     "output_type": "display_data"
    },
    {
     "name": "stdout",
     "output_type": "stream",
     "text": [
      "LR Finder is complete, type {learner_name}.recorder.plot() to see the graph.\n"
     ]
    }
   ],
   "source": [
    "learn_c.lr_find()"
   ]
  },
  {
   "cell_type": "code",
   "execution_count": 131,
   "metadata": {
    "colab": {},
    "colab_type": "code",
    "hidden": true,
    "id": "5sl8AHd7eaK5",
    "outputId": "2a9d031a-ab42-45fc-ca43-4b24ead8c0b7"
   },
   "outputs": [
    {
     "data": {
      "image/png": "[encoded data removed]",
      "text/plain": [
       "<Figure size 432x288 with 1 Axes>"
      ]
     },
     "metadata": {
      "needs_background": "light"
     },
     "output_type": "display_data"
    }
   ],
   "source": [
    "learn_c.recorder.plot()"
   ]
  },
  {
   "cell_type": "code",
   "execution_count": 132,
   "metadata": {
    "colab": {},
    "colab_type": "code",
    "hidden": true,
    "id": "Wvn-W4aNeaK8"
   },
   "outputs": [],
   "source": [
    "lr = 4e-3\n",
    "lr *= bs/48\n",
    "\n",
    "wd = 0.1"
   ]
  },
  {
   "cell_type": "code",
   "execution_count": 133,
   "metadata": {
    "colab": {},
    "colab_type": "code",
    "hidden": true,
    "id": "YHV9EPS2eaK-",
    "outputId": "455c93e0-e5f5-4014-ed61-b4a32c2ac216",
    "scrolled": false
   },
   "outputs": [
    {
     "data": {
      "text/html": [
       "<table border=\"1\" class=\"dataframe\">\n",
       "  <thead>\n",
       "    <tr style=\"text-align: left;\">\n",
       "      <th>epoch</th>\n",
       "      <th>train_loss</th>\n",
       "      <th>valid_loss</th>\n",
       "      <th>accuracy</th>\n",
       "      <th>f1</th>\n",
       "      <th>time</th>\n",
       "    </tr>\n",
       "  </thead>\n",
       "  <tbody>\n",
       "    <tr>\n",
       "      <td>0</td>\n",
       "      <td>0.413700</td>\n",
       "      <td>0.280349</td>\n",
       "      <td>0.879004</td>\n",
       "      <td>0.827802</td>\n",
       "      <td>00:20</td>\n",
       "    </tr>\n",
       "    <tr>\n",
       "      <td>1</td>\n",
       "      <td>0.415341</td>\n",
       "      <td>0.251620</td>\n",
       "      <td>0.886683</td>\n",
       "      <td>0.846804</td>\n",
       "      <td>00:20</td>\n",
       "    </tr>\n",
       "  </tbody>\n",
       "</table>"
      ],
      "text/plain": [
       "<IPython.core.display.HTML object>"
      ]
     },
     "metadata": {},
     "output_type": "display_data"
    }
   ],
   "source": [
    "learn_c.fit_one_cycle(2, lr, wd=wd, moms=(0.8,0.7))"
   ]
  },
  {
   "cell_type": "code",
   "execution_count": 134,
   "metadata": {
    "colab": {},
    "colab_type": "code",
    "hidden": true,
    "id": "QiUboVJ-eaK_"
   },
   "outputs": [],
   "source": [
    "learn_c.save(f'{lang}clas1_sp15_multifit_bwd')"
   ]
  },
  {
   "cell_type": "code",
   "execution_count": 135,
   "metadata": {
    "colab": {},
    "colab_type": "code",
    "hidden": true,
    "id": "vu1w7bwNeaLA",
    "outputId": "8fc629a1-1744-470f-89e0-3dc69449b3da"
   },
   "outputs": [
    {
     "data": {
      "text/html": [
       "<table border=\"1\" class=\"dataframe\">\n",
       "  <thead>\n",
       "    <tr style=\"text-align: left;\">\n",
       "      <th>epoch</th>\n",
       "      <th>train_loss</th>\n",
       "      <th>valid_loss</th>\n",
       "      <th>accuracy</th>\n",
       "      <th>f1</th>\n",
       "      <th>time</th>\n",
       "    </tr>\n",
       "  </thead>\n",
       "  <tbody>\n",
       "    <tr>\n",
       "      <td>0</td>\n",
       "      <td>0.384325</td>\n",
       "      <td>0.237685</td>\n",
       "      <td>0.895684</td>\n",
       "      <td>0.866170</td>\n",
       "      <td>00:24</td>\n",
       "    </tr>\n",
       "    <tr>\n",
       "      <td>1</td>\n",
       "      <td>0.384483</td>\n",
       "      <td>0.257613</td>\n",
       "      <td>0.871062</td>\n",
       "      <td>0.810963</td>\n",
       "      <td>00:25</td>\n",
       "    </tr>\n",
       "  </tbody>\n",
       "</table>"
      ],
      "text/plain": [
       "<IPython.core.display.HTML object>"
      ]
     },
     "metadata": {},
     "output_type": "display_data"
    }
   ],
   "source": [
    "learn_c.load(f'{lang}clas1_sp15_multifit_bwd');\n",
    "learn_c.freeze_to(-2)\n",
    "learn_c.fit_one_cycle(2, slice(lr/(2.6**4),lr), wd=wd, moms=(0.8,0.7))"
   ]
  },
  {
   "cell_type": "code",
   "execution_count": 136,
   "metadata": {
    "colab": {},
    "colab_type": "code",
    "hidden": true,
    "id": "nThZYQLPeaLC"
   },
   "outputs": [],
   "source": [
    "learn_c.save(f'{lang}clas2_sp15_multifit_bwd')"
   ]
  },
  {
   "cell_type": "code",
   "execution_count": 137,
   "metadata": {
    "colab": {},
    "colab_type": "code",
    "hidden": true,
    "id": "drs6nuILeaLE",
    "outputId": "c44a38ec-c598-4958-bc80-b21c779d64ab"
   },
   "outputs": [
    {
     "data": {
      "text/html": [
       "<table border=\"1\" class=\"dataframe\">\n",
       "  <thead>\n",
       "    <tr style=\"text-align: left;\">\n",
       "      <th>epoch</th>\n",
       "      <th>train_loss</th>\n",
       "      <th>valid_loss</th>\n",
       "      <th>accuracy</th>\n",
       "      <th>f1</th>\n",
       "      <th>time</th>\n",
       "    </tr>\n",
       "  </thead>\n",
       "  <tbody>\n",
       "    <tr>\n",
       "      <td>0</td>\n",
       "      <td>0.400534</td>\n",
       "      <td>0.225452</td>\n",
       "      <td>0.901244</td>\n",
       "      <td>0.871121</td>\n",
       "      <td>00:28</td>\n",
       "    </tr>\n",
       "    <tr>\n",
       "      <td>1</td>\n",
       "      <td>0.366623</td>\n",
       "      <td>0.234236</td>\n",
       "      <td>0.890919</td>\n",
       "      <td>0.851360</td>\n",
       "      <td>00:29</td>\n",
       "    </tr>\n",
       "  </tbody>\n",
       "</table>"
      ],
      "text/plain": [
       "<IPython.core.display.HTML object>"
      ]
     },
     "metadata": {},
     "output_type": "display_data"
    }
   ],
   "source": [
    "learn_c.load(f'{lang}clas2_sp15_multifit_bwd');\n",
    "learn_c.freeze_to(-3)\n",
    "learn_c.fit_one_cycle(2, slice(lr/2/(2.6**4),lr/2), wd=wd, moms=(0.8,0.7))"
   ]
  },
  {
   "cell_type": "code",
   "execution_count": 138,
   "metadata": {
    "colab": {},
    "colab_type": "code",
    "hidden": true,
    "id": "ZfRA48exeaLI"
   },
   "outputs": [],
   "source": [
    "learn_c.save(f'{lang}clas3_sp15_multifit_bwd')"
   ]
  },
  {
   "cell_type": "code",
   "execution_count": 139,
   "metadata": {
    "colab": {},
    "colab_type": "code",
    "hidden": true,
    "id": "89zenzd-eaLK",
    "outputId": "7bd36401-e4a1-456e-8dfd-13ee7503c12d"
   },
   "outputs": [
    {
     "data": {
      "text/html": [
       "<table border=\"1\" class=\"dataframe\">\n",
       "  <thead>\n",
       "    <tr style=\"text-align: left;\">\n",
       "      <th>epoch</th>\n",
       "      <th>train_loss</th>\n",
       "      <th>valid_loss</th>\n",
       "      <th>accuracy</th>\n",
       "      <th>f1</th>\n",
       "      <th>time</th>\n",
       "    </tr>\n",
       "  </thead>\n",
       "  <tbody>\n",
       "    <tr>\n",
       "      <td>0</td>\n",
       "      <td>0.399960</td>\n",
       "      <td>0.221284</td>\n",
       "      <td>0.914218</td>\n",
       "      <td>0.898709</td>\n",
       "      <td>00:43</td>\n",
       "    </tr>\n",
       "  </tbody>\n",
       "</table>"
      ],
      "text/plain": [
       "<IPython.core.display.HTML object>"
      ]
     },
     "metadata": {},
     "output_type": "display_data"
    }
   ],
   "source": [
    "learn_c.load(f'{lang}clas3_sp15_multifit_bwd');\n",
    "learn_c.unfreeze()\n",
    "learn_c.fit_one_cycle(1, slice(lr/10/(2.6**4),lr/10), wd=wd, moms=(0.8,0.7))"
   ]
  },
  {
   "cell_type": "code",
   "execution_count": 140,
   "metadata": {
    "colab": {},
    "colab_type": "code",
    "hidden": true,
    "id": "yMfcaKgqeaLM",
    "outputId": "f98fa75e-cfe7-4f61-e787-1f09b8d1498b"
   },
   "outputs": [
    {
     "data": {
      "text/html": [
       "<table border=\"1\" class=\"dataframe\">\n",
       "  <thead>\n",
       "    <tr style=\"text-align: left;\">\n",
       "      <th>epoch</th>\n",
       "      <th>train_loss</th>\n",
       "      <th>valid_loss</th>\n",
       "      <th>accuracy</th>\n",
       "      <th>f1</th>\n",
       "      <th>time</th>\n",
       "    </tr>\n",
       "  </thead>\n",
       "  <tbody>\n",
       "    <tr>\n",
       "      <td>0</td>\n",
       "      <td>0.345377</td>\n",
       "      <td>0.222420</td>\n",
       "      <td>0.902833</td>\n",
       "      <td>0.877878</td>\n",
       "      <td>00:44</td>\n",
       "    </tr>\n",
       "  </tbody>\n",
       "</table>"
      ],
      "text/plain": [
       "<IPython.core.display.HTML object>"
      ]
     },
     "metadata": {},
     "output_type": "display_data"
    }
   ],
   "source": [
    "learn_c.load(f'{lang}clas3_sp15_multifit_bwd');\n",
    "learn_c.unfreeze()\n",
    "learn_c.fit_one_cycle(1, slice(lr/10/(2.6**4),lr/10), wd=wd, moms=(0.8,0.7))"
   ]
  },
  {
   "cell_type": "code",
   "execution_count": 141,
   "metadata": {
    "colab": {},
    "colab_type": "code",
    "hidden": true,
    "id": "T6vP3Q-EeaLO",
    "outputId": "1466ec02-fe3b-483b-bcb1-48f9673e989b"
   },
   "outputs": [
    {
     "data": {
      "text/html": [
       "<table border=\"1\" class=\"dataframe\">\n",
       "  <thead>\n",
       "    <tr style=\"text-align: left;\">\n",
       "      <th>epoch</th>\n",
       "      <th>train_loss</th>\n",
       "      <th>valid_loss</th>\n",
       "      <th>accuracy</th>\n",
       "      <th>f1</th>\n",
       "      <th>time</th>\n",
       "    </tr>\n",
       "  </thead>\n",
       "  <tbody>\n",
       "    <tr>\n",
       "      <td>0</td>\n",
       "      <td>0.351143</td>\n",
       "      <td>0.227948</td>\n",
       "      <td>0.895155</td>\n",
       "      <td>0.866385</td>\n",
       "      <td>00:42</td>\n",
       "    </tr>\n",
       "  </tbody>\n",
       "</table>"
      ],
      "text/plain": [
       "<IPython.core.display.HTML object>"
      ]
     },
     "metadata": {},
     "output_type": "display_data"
    }
   ],
   "source": [
    "learn_c.load(f'{lang}clas3_sp15_multifit_bwd');\n",
    "learn_c.unfreeze()\n",
    "learn_c.fit_one_cycle(1, slice(lr/10/(2.6**4),lr/10), wd=wd, moms=(0.8,0.7))"
   ]
  },
  {
   "cell_type": "code",
   "execution_count": 142,
   "metadata": {
    "colab": {},
    "colab_type": "code",
    "hidden": true,
    "id": "CsnTJci-eaLP"
   },
   "outputs": [],
   "source": [
    "learn_c.save(f'{lang}clas4_sp15_multifit_bwd')"
   ]
  },
  {
   "cell_type": "code",
   "execution_count": 143,
   "metadata": {
    "colab": {},
    "colab_type": "code",
    "hidden": true,
    "id": "G71rFdEqeaLS"
   },
   "outputs": [],
   "source": [
    "learn_c.load(f'{lang}clas4_sp15_multifit_bwd')\n",
    "learn_c.save(f'{lang}clas_sp15_multifit_bwd')"
   ]
  },
  {
   "cell_type": "code",
   "execution_count": 144,
   "metadata": {
    "colab": {},
    "colab_type": "code",
    "hidden": true,
    "id": "40nI9UMDeaLT"
   },
   "outputs": [],
   "source": [
    "learn_c.load(f'{lang}clas_sp15_multifit_bwd');\n",
    "learn_c.to_fp32().export(f'{lang}_classifier_sp15_multifit_bwd')"
   ]
  },
  {
   "cell_type": "markdown",
   "metadata": {
    "colab_type": "text",
    "hidden": true,
    "id": "TfDmul9veaLV"
   },
   "source": [
    "### Confusion matrix"
   ]
  },
  {
   "cell_type": "code",
   "execution_count": 145,
   "metadata": {
    "colab": {},
    "colab_type": "code",
    "hidden": true,
    "id": "cytbDxpQeaLV",
    "outputId": "5e5db940-1e2b-401a-895b-b88f2507403f"
   },
   "outputs": [
    {
     "name": "stdout",
     "output_type": "stream",
     "text": [
      "CPU times: user 2.01 s, sys: 264 ms, total: 2.28 s\n",
      "Wall time: 1.76 s\n"
     ]
    }
   ],
   "source": [
    "%%time\n",
    "data_clas = load_data(path, f'{lang}_textlist_class_sp15_multifit_bwd', bs=bs, num_workers=1, backwards=True)\n",
    "\n",
    "config = awd_lstm_clas_config.copy()\n",
    "config['qrnn'] = True\n",
    "config['n_hid'] = 1550 #default 1152\n",
    "config['n_layers'] = 4 #default 3\n",
    "\n",
    "learn_c = text_classifier_learner(data_clas, AWD_LSTM, config=config, drop_mult=1.0, \n",
    "                                  metrics=[accuracy,f1])\n",
    "learn_c.load_encoder(f'{lang}fine_tuned_enc_sp15_multifit_bwd');\n",
    "\n",
    "learn_c.load(f'{lang}clas_sp15_multifit_bwd');\n",
    "\n",
    "# put weight on cpu\n",
    "loss_weights = torch.FloatTensor(trn_weights).cpu()\n",
    "learn_c.loss_func = partial(F.cross_entropy, weight=loss_weights)"
   ]
  },
  {
   "cell_type": "code",
   "execution_count": 146,
   "metadata": {
    "colab": {},
    "colab_type": "code",
    "hidden": true,
    "id": "3Pej6YN7eaLY",
    "outputId": "22a2b413-e7b2-4633-d1ef-5561075258da"
   },
   "outputs": [
    {
     "data": {
      "image/png": "[encoded data removed]",
      "text/plain": [
       "<Figure size 432x288 with 1 Axes>"
      ]
     },
     "metadata": {
      "needs_background": "light"
     },
     "output_type": "display_data"
    }
   ],
   "source": [
    "preds,y,losses = learn_c.get_preds(with_loss=True)\n",
    "predictions = np.argmax(preds, axis = 1)\n",
    "\n",
    "interp = ClassificationInterpretation(learn_c, preds, y, losses)\n",
    "interp.plot_confusion_matrix()"
   ]
  },
  {
   "cell_type": "code",
   "execution_count": 147,
   "metadata": {},
   "outputs": [
    {
     "data": {
      "text/plain": [
       "torch.Size([3777, 2])"
      ]
     },
     "execution_count": 147,
     "metadata": {},
     "output_type": "execute_result"
    }
   ],
   "source": [
    "preds.shape"
   ]
  },
  {
   "cell_type": "code",
   "execution_count": 148,
   "metadata": {
    "colab": {},
    "colab_type": "code",
    "hidden": true,
    "id": "2DgjH66KeaLa",
    "outputId": "50a36b8a-79e7-40ce-90fe-4d95f13c417a"
   },
   "outputs": [
    {
     "name": "stdout",
     "output_type": "stream",
     "text": [
      "[[1095   49]\n",
      " [ 347 2286]]\n",
      "accuracy global: 0.8951548848292296\n",
      "accuracy on negative reviews: 95.71678321678321\n",
      "accuracy on positive reviews: 86.8211165970376\n"
     ]
    }
   ],
   "source": [
    "from sklearn.metrics import confusion_matrix\n",
    "cm = confusion_matrix(np.array(y), np.array(predictions))\n",
    "print(cm)\n",
    "\n",
    "## acc\n",
    "print(f'accuracy global: {(cm[0,0]+cm[1,1])/(cm[0,0]+cm[0,1]+cm[1,0]+cm[1,1])}')\n",
    "\n",
    "# acc neg, acc pos\n",
    "print(f'accuracy on negative reviews: {cm[0,0]/(cm[0,0]+cm[0,1])*100}') \n",
    "print(f'accuracy on positive reviews: {cm[1,1]/(cm[1,0]+cm[1,1])*100}')"
   ]
  },
  {
   "cell_type": "code",
   "execution_count": 149,
   "metadata": {
    "colab": {},
    "colab_type": "code",
    "hidden": true,
    "id": "TJCmRQc8eaLb",
    "outputId": "f3b5e08e-e77d-4010-bf90-b165892877b9"
   },
   "outputs": [
    {
     "data": {
      "text/html": [
       "<table border=\"1\" class=\"dataframe\">\n",
       "  <thead>\n",
       "    <tr style=\"text-align: right;\">\n",
       "      <th>text</th>\n",
       "      <th>target</th>\n",
       "      <th>prediction</th>\n",
       "    </tr>\n",
       "  </thead>\n",
       "  <tbody>\n",
       "    <tr>\n",
       "      <td>. ▁providências ▁xxup ▁ate ▁xxup ▁peço ▁xxup , ▁chegou ▁xxup ▁não ▁xxup b y s 39 14 ▁2 ▁xxup y t al ci pe s ▁ ▁xxmaj cta ▁invi ▁xxmaj ▁relógio ▁xxmaj ▁produto ▁xxup ▁o ▁mas ▁xxup , ▁similar ▁xxup ▁produto ▁xxup ▁bem ▁xxup ▁tudo ▁xxup , 1 400 ▁2 ver ▁di ▁xxup ▁pro ▁xxup cta ▁invi ▁xxup ▁pelo ▁xxup ▁trocado ▁xxup ▁veio ▁xxup , 4 5 19 ▁2 -</td>\n",
       "      <td>neg</td>\n",
       "      <td>neg</td>\n",
       "    </tr>\n",
       "    <tr>\n",
       "      <td>. ▁esclarecimentos ▁xxup ▁peço ▁xxup . ▁foi ▁xxup ▁que ▁xxup ▁informado ▁xxup ▁sendo ▁xxup ▁está ▁xxup ▁site ▁xxup ▁no ▁xxup ▁porém ▁xxup , ▁entregue ▁xxup ▁foi ▁xxup ▁não ▁xxup ▁produto ▁xxup ▁o ▁que ▁xxup ▁informo ▁xxup p ra t s ▁ ▁xxmaj le b u ▁do ▁xxmaj r l s ▁d ▁xxmaj s ▁camera ▁xxmaj timo gi le ▁ ▁xxmaj ▁couro ▁xxmaj le b u do - ▁x ▁xxmaj ▁dupla</td>\n",
       "      <td>neg</td>\n",
       "      <td>neg</td>\n",
       "    </tr>\n",
       "    <tr>\n",
       "      <td>. ▁att ▁xxup , ▁ ▁retorno ▁xxup ▁o aguardo , ▁ ▁xxup ▁frete ▁xxup ▁do ▁xxup ▁valor ▁xxup ▁o ▁devolver ▁xxup ▁deveria ▁xxup ▁vcs ▁xxup pois , ▁ ▁xxup ▁correios ▁xxup ▁do ▁xxup ▁agência ▁xxup ▁na ▁xxup ▁retirar ▁xxup ▁que ▁xxup tive , ▁endereço ▁xxup ▁meu ▁xxup ▁no ▁xxup ▁entregue ▁xxup ▁foi ▁xxup ▁não ▁xxup ▁e ▁frete ▁xxup ▁alto ▁xxup ▁um ▁xxup ▁cobrado ▁xxup ▁foi ▁xxup ▁produto ▁xxup ▁o .</td>\n",
       "      <td>pos</td>\n",
       "      <td>neg</td>\n",
       "    </tr>\n",
       "    <tr>\n",
       "      <td>2 24 09 7 2 99 - 71 ▁ l ▁te ▁xxup ▁contato ▁xxup ▁aguardo ▁xxup ▁chegou ▁xxup ▁nao ▁xxup 20 , ▁17 ▁as ▁xxup 18 - 04 - ▁25 ▁empresa ▁xxup ▁essa ▁xxup ▁com ▁xxup ▁triste ▁xxup ▁mt ▁xxup ▁to ▁xxup ▁produto ▁xxup ▁do ▁xxup r ▁entraga ▁xxup ▁a o ira pr ▁com ▁xxup ▁nao ▁xxup ▁eles ▁xxup ▁entregue ▁xxup ▁ser ▁xxup ▁pra ▁xxup ▁era ▁xxup 18 - 04</td>\n",
       "      <td>neg</td>\n",
       "      <td>neg</td>\n",
       "    </tr>\n",
       "    <tr>\n",
       "      <td>! . ▁resposta ▁xxup ▁nenhuma ▁xxup ▁obtive ▁xxup ▁não ▁xxup ▁agora ▁xxup ▁ate ▁xxup ▁e ▁problema ▁xxup ▁o ▁resolve ▁xxup ▁para ▁xxup ▁emails ▁xxup ▁vários ▁xxup ▁enviei ▁xxup ▁já ▁xxup , ▁entrega ▁xxup ▁de ▁xxup ▁prazo ▁xxup ▁do ▁xxup ▁fora ▁xxup ▁assim ▁xxup ▁mesmo ▁xxup ▁e ), nd u ( ▁1 ▁xxup ▁apenas ▁xxup ▁chegou ▁xxup , ▁produto ▁xxup ▁do ▁xxup ) nd u ▁( ▁xxup ▁2 ▁de ▁xxup ▁pedido</td>\n",
       "      <td>neg</td>\n",
       "      <td>neg</td>\n",
       "    </tr>\n",
       "  </tbody>\n",
       "</table>"
      ],
      "text/plain": [
       "<IPython.core.display.HTML object>"
      ]
     },
     "metadata": {},
     "output_type": "display_data"
    }
   ],
   "source": [
    "learn_c.show_results()"
   ]
  },
  {
   "cell_type": "markdown",
   "metadata": {
    "colab_type": "text",
    "hidden": true,
    "id": "qqb5fMuGeaLc"
   },
   "source": [
    "### Predictions some random sentences"
   ]
  },
  {
   "cell_type": "code",
   "execution_count": 150,
   "metadata": {
    "colab": {},
    "colab_type": "code",
    "hidden": true,
    "id": "gYaLLlJ-eaLd"
   },
   "outputs": [],
   "source": [
    "import matplotlib.cm as cm"
   ]
  },
  {
   "cell_type": "code",
   "execution_count": 151,
   "metadata": {
    "colab": {},
    "colab_type": "code",
    "hidden": true,
    "id": "b8EFFhqreaLl",
    "outputId": "25e621cb-4bd2-47ef-80e1-5e29bc19315e"
   },
   "outputs": [
    {
     "name": "stdout",
     "output_type": "stream",
     "text": [
      "neg tensor([0.9705, 0.0295])\n"
     ]
    }
   ],
   "source": [
    "# Get the prediction neg/pos\n",
    "review = 'Eu não gosto deste produto'\n",
    "pred = learn_c.predict(review)\n",
    "print(pred[0], pred[2])"
   ]
  },
  {
   "cell_type": "code",
   "execution_count": 152,
   "metadata": {
    "colab": {},
    "colab_type": "code",
    "hidden": true,
    "id": "ksNS0Ed4eaLn",
    "outputId": "0f4f8d4a-f3e3-483d-a584-7e85cd0bd26d"
   },
   "outputs": [
    {
     "data": {
      "text/html": [
       "<span style=\"font-family: monospace;\"><span title=\"0.338\" style=\"background-color: rgba(197, 197, 224, 0.5);\">▁produto</span> <span title=\"0.576\" style=\"background-color: rgba(139, 136, 191, 0.5);\">▁deste</span> <span title=\"1.000\" style=\"background-color: rgba(63, 0, 125, 0.5);\">▁gosto</span> <span title=\"0.842\" style=\"background-color: rgba(89, 49, 148, 0.5);\">▁não</span> <span title=\"0.177\" style=\"background-color: rgba(230, 229, 240, 0.5);\">▁eu</span> <span title=\"0.029\" style=\"background-color: rgba(249, 247, 251, 0.5);\">▁xxmaj</span> <span title=\"0.004\" style=\"background-color: rgba(251, 250, 252, 0.5);\">▁xxbos</span></span>"
      ],
      "text/plain": [
       "<IPython.core.display.HTML object>"
      ]
     },
     "metadata": {},
     "output_type": "display_data"
    }
   ],
   "source": [
    "# The darker the word-shading in the below example, the more it contributes to the classification. \n",
    "txt_ci = TextClassificationInterpretation.from_learner(learn_c)\n",
    "test_text = \"Eu não gosto deste produto\"\n",
    "txt_ci.show_intrinsic_attention(test_text,cmap=cm.Purples)"
   ]
  },
  {
   "cell_type": "code",
   "execution_count": 153,
   "metadata": {
    "colab": {},
    "colab_type": "code",
    "hidden": true,
    "id": "WYXW4O9KeaLq",
    "outputId": "11077a8a-bd26-425e-b194-6df098922e52"
   },
   "outputs": [
    {
     "data": {
      "text/plain": [
       "tensor([0.3375, 0.5761, 1.0000, 0.8423, 0.1770, 0.0294, 0.0044],\n",
       "       device='cuda:0')"
      ]
     },
     "execution_count": 153,
     "metadata": {},
     "output_type": "execute_result"
    }
   ],
   "source": [
    "txt_ci.intrinsic_attention(test_text)[1]"
   ]
  },
  {
   "cell_type": "code",
   "execution_count": 154,
   "metadata": {
    "colab": {},
    "colab_type": "code",
    "hidden": true,
    "id": "A229kjAGeaLr",
    "outputId": "19a66fb9-9f5c-4eac-95b6-95e53614ee00"
   },
   "outputs": [
    {
     "data": {
      "text/html": [
       "<table border=\"1\" class=\"dataframe\">\n",
       "  <thead>\n",
       "    <tr style=\"text-align: right;\">\n",
       "      <th>Text</th>\n",
       "      <th>Prediction</th>\n",
       "      <th>Actual</th>\n",
       "      <th>Loss</th>\n",
       "      <th>Probability</th>\n",
       "    </tr>\n",
       "  </thead>\n",
       "  <tbody>\n",
       "    <tr>\n",
       "      <td>▁xxbos ▁muito ▁bom ▁gostei ▁do ▁atendimento ▁veio ▁bem ▁antes ▁do ▁prazo</td>\n",
       "      <td>pos</td>\n",
       "      <td>neg</td>\n",
       "      <td>4.11</td>\n",
       "      <td>0.00</td>\n",
       "    </tr>\n",
       "    <tr>\n",
       "      <td>▁xxbos ▁xxmaj ▁entrega ▁super ▁rápida ... ▁xxmaj ▁produto ▁com ▁ótima ▁qualidade ... ▁xxmaj ▁super ▁recomendo ...</td>\n",
       "      <td>pos</td>\n",
       "      <td>neg</td>\n",
       "      <td>3.53</td>\n",
       "      <td>0.01</td>\n",
       "    </tr>\n",
       "    <tr>\n",
       "      <td>▁xxbos ▁xxmaj ▁ótimo ▁site ▁para ▁comprar ▁muito ▁confiável</td>\n",
       "      <td>pos</td>\n",
       "      <td>neg</td>\n",
       "      <td>3.01</td>\n",
       "      <td>0.01</td>\n",
       "    </tr>\n",
       "    <tr>\n",
       "      <td>▁xxbos ▁xxmaj ▁muito ▁bom ▁eu ▁gostei</td>\n",
       "      <td>pos</td>\n",
       "      <td>neg</td>\n",
       "      <td>2.74</td>\n",
       "      <td>0.02</td>\n",
       "    </tr>\n",
       "    <tr>\n",
       "      <td>▁xxbos ▁xxmaj ▁tudo ▁bem</td>\n",
       "      <td>pos</td>\n",
       "      <td>neg</td>\n",
       "      <td>2.59</td>\n",
       "      <td>0.02</td>\n",
       "    </tr>\n",
       "  </tbody>\n",
       "</table>"
      ],
      "text/plain": [
       "<IPython.core.display.HTML object>"
      ]
     },
     "metadata": {},
     "output_type": "display_data"
    }
   ],
   "source": [
    "# tabulation showing the first k texts in top_losses along with their prediction, actual,loss, and probability of actual class.\n",
    "# max_len is the maximum number of tokens displayed. If max_len=None, it will display all tokens.\n",
    "txt_ci.show_top_losses(5)"
   ]
  },
  {
   "cell_type": "markdown",
   "metadata": {
    "colab_type": "text",
    "id": "W_Xuqc2CeaLt"
   },
   "source": [
    "## Ensemble"
   ]
  },
  {
   "cell_type": "code",
   "execution_count": 155,
   "metadata": {
    "colab": {},
    "colab_type": "code",
    "id": "6MDp1CjOeaLt"
   },
   "outputs": [],
   "source": [
    "bs = 18"
   ]
  },
  {
   "cell_type": "code",
   "execution_count": 156,
   "metadata": {
    "colab": {},
    "colab_type": "code",
    "id": "ObYHpyceeaLv"
   },
   "outputs": [],
   "source": [
    "config = awd_lstm_clas_config.copy()\n",
    "config['qrnn'] = True\n",
    "config['n_hid'] = 1550 #default 1152\n",
    "config['n_layers'] = 4 #default 3"
   ]
  },
  {
   "cell_type": "code",
   "execution_count": 157,
   "metadata": {
    "colab": {},
    "colab_type": "code",
    "id": "K2XWY86oeaLz"
   },
   "outputs": [],
   "source": [
    "data_clas = load_data(path, f'{lang}_textlist_class_sp15_multifit', bs=bs, num_workers=1)\n",
    "learn_c = text_classifier_learner(data_clas, AWD_LSTM, config=config, drop_mult=1.0, metrics=[accuracy,f1]).to_fp16()\n",
    "learn_c.load(f'{lang}clas_sp15_multifit', purge=False);"
   ]
  },
  {
   "cell_type": "code",
   "execution_count": 158,
   "metadata": {
    "colab": {},
    "colab_type": "code",
    "id": "9mz3GMgaeaL0",
    "outputId": "2ae25c55-4eb6-48f7-caad-a87dc7b7963a"
   },
   "outputs": [
    {
     "data": {
      "text/plain": [
       "(tensor(0.9155), tensor(0.9368))"
      ]
     },
     "execution_count": 158,
     "metadata": {},
     "output_type": "execute_result"
    }
   ],
   "source": [
    "preds,targs = learn_c.get_preds(ordered=True)\n",
    "accuracy(preds,targs),f1(preds,targs)"
   ]
  },
  {
   "cell_type": "code",
   "execution_count": 159,
   "metadata": {
    "colab": {},
    "colab_type": "code",
    "id": "bQeR_a2xeaL1"
   },
   "outputs": [],
   "source": [
    "data_clas_bwd = load_data(path, f'{lang}_textlist_class_sp15_multifit_bwd', bs=bs, num_workers=1, backwards=True)\n",
    "learn_c_bwd = text_classifier_learner(data_clas_bwd, AWD_LSTM, config=config, drop_mult=1.0, metrics=[accuracy,f1]).to_fp16()\n",
    "learn_c_bwd.load(f'{lang}clas_sp15_multifit_bwd', purge=False);"
   ]
  },
  {
   "cell_type": "code",
   "execution_count": 160,
   "metadata": {
    "colab": {},
    "colab_type": "code",
    "id": "XhXxRmapeaMB",
    "outputId": "6c486e04-e40c-4701-8359-d3bbb73f132f"
   },
   "outputs": [
    {
     "data": {
      "text/plain": [
       "(tensor(0.8952), tensor(0.9203))"
      ]
     },
     "execution_count": 160,
     "metadata": {},
     "output_type": "execute_result"
    }
   ],
   "source": [
    "preds_b,targs_b = learn_c_bwd.get_preds(ordered=True)\n",
    "accuracy(preds_b,targs_b),f1(preds_b,targs_b)"
   ]
  },
  {
   "cell_type": "code",
   "execution_count": 161,
   "metadata": {
    "colab": {},
    "colab_type": "code",
    "id": "efxflCt2eaMD"
   },
   "outputs": [],
   "source": [
    "preds_avg = (preds+preds_b)/2"
   ]
  },
  {
   "cell_type": "code",
   "execution_count": 162,
   "metadata": {
    "colab": {},
    "colab_type": "code",
    "id": "gto19vv7eaME",
    "outputId": "e6ff4a41-f379-4d8f-d66d-8056ec20f181"
   },
   "outputs": [
    {
     "data": {
      "text/plain": [
       "(tensor(0.9068), tensor(0.9298))"
      ]
     },
     "execution_count": 162,
     "metadata": {},
     "output_type": "execute_result"
    }
   ],
   "source": [
    "accuracy(preds_avg,targs_b),f1(preds_avg,targs_b)"
   ]
  },
  {
   "cell_type": "code",
   "execution_count": 163,
   "metadata": {
    "colab": {},
    "colab_type": "code",
    "id": "UjvOQFAPeaMG",
    "outputId": "5850e228-7f8c-4fcc-e528-0bfd69210b8d"
   },
   "outputs": [
    {
     "name": "stdout",
     "output_type": "stream",
     "text": [
      "[[1095   49]\n",
      " [ 303 2330]]\n",
      "accuracy global: 0.9068043420704263\n",
      "accuracy on negative reviews: 95.71678321678321\n",
      "accuracy on positive reviews: 88.49221420432967\n"
     ]
    }
   ],
   "source": [
    "from sklearn.metrics import confusion_matrix\n",
    "\n",
    "predictions = np.argmax(preds_avg, axis = 1)\n",
    "cm = confusion_matrix(np.array(targs_b), np.array(predictions))\n",
    "print(cm)\n",
    "\n",
    "## acc\n",
    "print(f'accuracy global: {(cm[0,0]+cm[1,1])/(cm[0,0]+cm[0,1]+cm[1,0]+cm[1,1])}')\n",
    "\n",
    "# acc neg, acc pos\n",
    "print(f'accuracy on negative reviews: {cm[0,0]/(cm[0,0]+cm[0,1])*100}') \n",
    "print(f'accuracy on positive reviews: {cm[1,1]/(cm[1,0]+cm[1,1])*100}')"
   ]
  },
  {
   "cell_type": "code",
   "execution_count": null,
   "metadata": {},
   "outputs": [],
   "source": []
  }
 ],
 "metadata": {
  "accelerator": "GPU",
  "colab": {
   "collapsed_sections": [
    "yO6bhWs_eaFp",
    "-R03wqVIeaF1",
    "ko9cfyMBeaF7",
    "XF2_iJFFeaGH",
    "FXyjhKb9eaG6",
    "RZ2aD1TFeaHF",
    "BKeUek3ReaH4",
    "77aO5YHJeaIQ",
    "Mz5Iy_zxeaIf",
    "GzNwq4umeaIp",
    "LrV5EuKxeaI1",
    "t9XdUTX5eaJv",
    "eggdqeYdeaJ6",
    "ehIGx3QjeaKI",
    "NbZ_MeOleaKX",
    "X_gh1LB4eaKi",
    "nZpfYQG7eaKw",
    "anPse4c1eaK1",
    "TfDmul9veaLV",
    "qqb5fMuGeaLc"
   ],
   "name": "lm3-portuguese-classifier-olist.ipynb",
   "provenance": []
  },
  "kernelspec": {
   "display_name": "Python 3",
   "language": "python",
   "name": "python3"
  },
  "language_info": {
   "codemirror_mode": {
    "name": "ipython",
    "version": 3
   },
   "file_extension": ".py",
   "mimetype": "text/x-python",
   "name": "python",
   "nbconvert_exporter": "python",
   "pygments_lexer": "ipython3",
   "version": "3.7.4"
  }
 },
 "nbformat": 4,
 "nbformat_minor": 1
}
